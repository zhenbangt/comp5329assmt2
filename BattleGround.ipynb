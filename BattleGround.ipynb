{
 "cells": [
  {
   "cell_type": "markdown",
   "metadata": {
    "id": "NYTGkadIZh4_"
   },
   "source": [
    "# COMP5329 - Assignment 2"
   ]
  },
  {
   "cell_type": "code",
   "execution_count": null,
   "metadata": {
    "collapsed": true,
    "jupyter": {
     "outputs_hidden": true
    },
    "tags": []
   },
   "outputs": [
    {
     "name": "stdout",
     "output_type": "stream",
     "text": [
      "\n",
      "05/28 03:59:46 [\u001b[1;32mNOTICE\u001b[0m] Downloading 1 item(s)\n",
      " *** Download Progress Summary as of Fri May 28 04:00:46 2021 ***              46m4s\u001b[0m\u001b[35m]\u001b[0m\u001b[0mmm\n",
      "===============================================================================\n",
      "[#37613c 16MiB/18GiB(0%) CN:5 DL:275KiB ETA:18h59m59s]\n",
      "FILE: /home/ztan/comp5329_assmt2/train2017.zip\n",
      "-------------------------------------------------------------------------------\n",
      "\n",
      " *** Download Progress Summary as of Fri May 28 04:01:47 2021 ***              17m3s\u001b[0m\u001b[35m]\u001b[0m\u001b[0mm\n",
      "===============================================================================\n",
      "[#37613c 26MiB/18GiB(0%) CN:5 DL:170KiB ETA:30h40m1s]\n",
      "FILE: /home/ztan/comp5329_assmt2/train2017.zip\n",
      "-------------------------------------------------------------------------------\n",
      "\n",
      " *** Download Progress Summary as of Fri May 28 04:02:48 2021 ***              14m27s\u001b[0m\u001b[35m]\u001b[0m\u001b[0m\n",
      "===============================================================================\n",
      "[#37613c 37MiB/18GiB(0%) CN:5 DL:280KiB ETA:18h40m45s]\n",
      "FILE: /home/ztan/comp5329_assmt2/train2017.zip\n",
      "-------------------------------------------------------------------------------\n",
      "\n",
      " *** Download Progress Summary as of Fri May 28 04:03:49 2021 ***              56m32s\u001b[0m\u001b[35m]\u001b[0m\u001b[0m\n",
      "===============================================================================\n",
      "[#37613c 47MiB/18GiB(0%) CN:5 DL:114KiB ETA:45h43m54s]\n",
      "FILE: /home/ztan/comp5329_assmt2/train2017.zip\n",
      "-------------------------------------------------------------------------------\n",
      "\n",
      " *** Download Progress Summary as of Fri May 28 04:04:49 2021 ***              43m37s\u001b[0m\u001b[35m]\u001b[0m\u001b[0m\n",
      "===============================================================================\n",
      "[#37613c 58MiB/18GiB(0%) CN:5 DL:189KiB ETA:27h37m19s]\n",
      "FILE: /home/ztan/comp5329_assmt2/train2017.zip\n",
      "-------------------------------------------------------------------------------\n",
      "\n",
      " *** Download Progress Summary as of Fri May 28 04:05:50 2021 ***              55m40s\u001b[0m\u001b[35m]\u001b[0m\u001b[0m\n",
      "===============================================================================\n",
      "[#37613c 66MiB/18GiB(0%) CN:5 DL:212KiB ETA:24h36m]\n",
      "FILE: /home/ztan/comp5329_assmt2/train2017.zip\n",
      "-------------------------------------------------------------------------------\n",
      "\n",
      " *** Download Progress Summary as of Fri May 28 04:06:50 2021 ***              27m28s\u001b[0m\u001b[35m]\u001b[0m\u001b[0m\n",
      "===============================================================================\n",
      "[#37613c 76MiB/18GiB(0%) CN:5 DL:126KiB ETA:41h21m29s]\n",
      "FILE: /home/ztan/comp5329_assmt2/train2017.zip\n",
      "-------------------------------------------------------------------------------\n",
      "\n",
      " *** Download Progress Summary as of Fri May 28 04:07:51 2021 ***              22m11s\u001b[0m\u001b[35m]\u001b[0m\u001b[0m\n",
      "===============================================================================\n",
      "[#37613c 86MiB/18GiB(0%) CN:5 DL:144KiB ETA:36h12m44s]\n",
      "FILE: /home/ztan/comp5329_assmt2/train2017.zip\n",
      "-------------------------------------------------------------------------------\n",
      "\n",
      " *** Download Progress Summary as of Fri May 28 04:08:51 2021 ***              25m28s\u001b[0m\u001b[35m]\u001b[0m\u001b[0m\n",
      "===============================================================================\n",
      "[#37613c 94MiB/18GiB(0%) CN:5 DL:114KiB ETA:45h44m32s]\n",
      "FILE: /home/ztan/comp5329_assmt2/train2017.zip\n",
      "-------------------------------------------------------------------------------\n",
      "\n",
      " *** Download Progress Summary as of Fri May 28 04:09:51 2021 ***              h20m45s\u001b[0m\u001b[35m]\u001b[0m\u001b[0m\n",
      "===============================================================================\n",
      "[#37613c 104MiB/18GiB(0%) CN:5 DL:191KiB ETA:27h13m47s]\n",
      "FILE: /home/ztan/comp5329_assmt2/train2017.zip\n",
      "-------------------------------------------------------------------------------\n",
      "\n",
      " *** Download Progress Summary as of Fri May 28 04:10:51 2021 ***              h26m32s\u001b[0m\u001b[35m]\u001b[0m\u001b[0m\n",
      "===============================================================================\n",
      "[#37613c 115MiB/18GiB(0%) CN:5 DL:213KiB ETA:24h28m11s]\n",
      "FILE: /home/ztan/comp5329_assmt2/train2017.zip\n",
      "-------------------------------------------------------------------------------\n",
      "\n",
      " *** Download Progress Summary as of Fri May 28 04:11:52 2021 ***              h6m45s\u001b[0m\u001b[35m]\u001b[0m\u001b[0mm\n",
      "===============================================================================\n",
      "[#37613c 127MiB/18GiB(0%) CN:5 DL:199KiB ETA:26h5m49s]\n",
      "FILE: /home/ztan/comp5329_assmt2/train2017.zip\n",
      "-------------------------------------------------------------------------------\n",
      "\n",
      " *** Download Progress Summary as of Fri May 28 04:12:53 2021 ***              h30m9s\u001b[0m\u001b[35m]\u001b[0m\u001b[0mm\n",
      "===============================================================================\n",
      "[#37613c 137MiB/18GiB(0%) CN:5 DL:175KiB ETA:29h37m46s]\n",
      "FILE: /home/ztan/comp5329_assmt2/train2017.zip\n",
      "-------------------------------------------------------------------------------\n",
      "\n",
      " *** Download Progress Summary as of Fri May 28 04:13:53 2021 ***              h35m29s\u001b[0m\u001b[35m]\u001b[0m\u001b[0m\n",
      "===============================================================================\n",
      "[#37613c 153MiB/18GiB(0%) CN:5 DL:184KiB ETA:28h10m5s]\n",
      "FILE: /home/ztan/comp5329_assmt2/train2017.zip\n",
      "-------------------------------------------------------------------------------\n",
      "\n",
      " *** Download Progress Summary as of Fri May 28 04:14:54 2021 ***              h22m6s\u001b[0m\u001b[35m]\u001b[0m\u001b[0mm\n",
      "===============================================================================\n",
      "[#37613c 165MiB/18GiB(0%) CN:5 DL:189KiB ETA:27h25m13s]\n",
      "FILE: /home/ztan/comp5329_assmt2/train2017.zip\n",
      "-------------------------------------------------------------------------------\n",
      "\n",
      " *** Download Progress Summary as of Fri May 28 04:15:55 2021 ***              h18m58s\u001b[0m\u001b[35m]\u001b[0m\u001b[0m\n",
      "===============================================================================\n",
      "[#37613c 178MiB/18GiB(0%) CN:5 DL:268KiB ETA:19h22m44s]\n",
      "FILE: /home/ztan/comp5329_assmt2/train2017.zip\n",
      "-------------------------------------------------------------------------------\n",
      "\n",
      " *** Download Progress Summary as of Fri May 28 04:16:55 2021 ***              h49m48s\u001b[0m\u001b[35m]\u001b[0m\u001b[0m\n",
      "===============================================================================\n",
      "[#37613c 193MiB/18GiB(1%) CN:5 DL:247KiB ETA:20h58m31s]\n",
      "FILE: /home/ztan/comp5329_assmt2/train2017.zip\n",
      "-------------------------------------------------------------------------------\n",
      "\n",
      " *** Download Progress Summary as of Fri May 28 04:17:56 2021 ***              h56m37s\u001b[0m\u001b[35m]\u001b[0m\u001b[0m\n",
      "===============================================================================\n",
      "[#37613c 207MiB/18GiB(1%) CN:5 DL:180KiB ETA:28h39m47s]\n",
      "FILE: /home/ztan/comp5329_assmt2/train2017.zip\n",
      "-------------------------------------------------------------------------------\n",
      "\n",
      " *** Download Progress Summary as of Fri May 28 04:18:56 2021 ***              h48m44s\u001b[0m\u001b[35m]\u001b[0m\u001b[0m\n",
      "===============================================================================\n",
      "[#37613c 222MiB/18GiB(1%) CN:5 DL:272KiB ETA:19h2m51s]\n",
      "FILE: /home/ztan/comp5329_assmt2/train2017.zip\n",
      "-------------------------------------------------------------------------------\n",
      "\n",
      " *** Download Progress Summary as of Fri May 28 04:19:57 2021 ***              h19m5s\u001b[0m\u001b[35m]\u001b[0m\u001b[0mm\n",
      "===============================================================================\n",
      "[#37613c 236MiB/18GiB(1%) CN:5 DL:211KiB ETA:24h30m26s]\n",
      "FILE: /home/ztan/comp5329_assmt2/train2017.zip\n",
      "-------------------------------------------------------------------------------\n",
      "\n",
      " *** Download Progress Summary as of Fri May 28 04:20:58 2021 ***              h8m49s\u001b[0m\u001b[35m]\u001b[0m\u001b[0mm\n",
      "===============================================================================\n",
      "[#37613c 248MiB/18GiB(1%) CN:5 DL:164KiB ETA:31h26m22s]\n",
      "FILE: /home/ztan/comp5329_assmt2/train2017.zip\n",
      "-------------------------------------------------------------------------------\n",
      "\n",
      " *** Download Progress Summary as of Fri May 28 04:21:58 2021 ***              h42m42s\u001b[0m\u001b[35m]\u001b[0m\u001b[0m\n",
      "===============================================================================\n",
      "[#37613c 259MiB/18GiB(1%) CN:5 DL:175KiB ETA:29h29m44s]\n",
      "FILE: /home/ztan/comp5329_assmt2/train2017.zip\n",
      "-------------------------------------------------------------------------------\n",
      "\n",
      " *** Download Progress Summary as of Fri May 28 04:22:59 2021 ***              h8m43s\u001b[0m\u001b[35m]\u001b[0m\u001b[0mm\n",
      "===============================================================================\n",
      "[#37613c 275MiB/18GiB(1%) CN:5 DL:197KiB ETA:26h11m53s]\n",
      "FILE: /home/ztan/comp5329_assmt2/train2017.zip\n",
      "-------------------------------------------------------------------------------\n",
      "\n",
      " *** Download Progress Summary as of Fri May 28 04:23:59 2021 ***              h32m24s\u001b[0m\u001b[35m]\u001b[0m\u001b[0m\n",
      "===============================================================================\n",
      "[#37613c 289MiB/18GiB(1%) CN:5 DL:163KiB ETA:31h31m42s]\n",
      "FILE: /home/ztan/comp5329_assmt2/train2017.zip\n",
      "-------------------------------------------------------------------------------\n",
      "\n",
      " *** Download Progress Summary as of Fri May 28 04:24:59 2021 ***              h11m35s\u001b[0m\u001b[35m]\u001b[0m\u001b[0m\n",
      "===============================================================================\n",
      "[#37613c 302MiB/18GiB(1%) CN:5 DL:199KiB ETA:25h47m53s]\n",
      "FILE: /home/ztan/comp5329_assmt2/train2017.zip\n",
      "-------------------------------------------------------------------------------\n",
      "\n",
      " *** Download Progress Summary as of Fri May 28 04:26:00 2021 ***              h20m21s\u001b[0m\u001b[35m]\u001b[0m\u001b[0m\n",
      "===============================================================================\n",
      "[#37613c 316MiB/18GiB(1%) CN:5 DL:271KiB ETA:19h42s]\n",
      "FILE: /home/ztan/comp5329_assmt2/train2017.zip\n",
      "-------------------------------------------------------------------------------\n",
      "\n",
      " *** Download Progress Summary as of Fri May 28 04:27:01 2021 ***              h39m12s\u001b[0m\u001b[35m]\u001b[0m\u001b[0m\n",
      "===============================================================================\n",
      "[#37613c 331MiB/18GiB(1%) CN:5 DL:149KiB ETA:34h27m5s]\n",
      "FILE: /home/ztan/comp5329_assmt2/train2017.zip\n",
      "-------------------------------------------------------------------------------\n",
      "\n",
      " *** Download Progress Summary as of Fri May 28 04:28:02 2021 ***              h6m54s\u001b[0m\u001b[35m]\u001b[0m\u001b[0mm\n",
      "===============================================================================\n",
      "[#37613c 344MiB/18GiB(1%) CN:5 DL:155KiB ETA:33h7m46s]\n",
      "FILE: /home/ztan/comp5329_assmt2/train2017.zip\n",
      "-------------------------------------------------------------------------------\n",
      "\n",
      " *** Download Progress Summary as of Fri May 28 04:29:02 2021 ***              h26m7s\u001b[0m\u001b[35m]\u001b[0m\u001b[0mm\n",
      "===============================================================================\n",
      "[#37613c 355MiB/18GiB(1%) CN:5 DL:145KiB ETA:35h24m15s]\n",
      "FILE: /home/ztan/comp5329_assmt2/train2017.zip\n",
      "-------------------------------------------------------------------------------\n",
      "\n",
      " *** Download Progress Summary as of Fri May 28 04:30:03 2021 ***              h14m30s\u001b[0m\u001b[35m]\u001b[0m\u001b[0m\n",
      "===============================================================================\n",
      "[#37613c 369MiB/18GiB(2%) CN:5 DL:236KiB ETA:21h44m5s]\n",
      "FILE: /home/ztan/comp5329_assmt2/train2017.zip\n",
      "-------------------------------------------------------------------------------\n",
      "\n",
      " *** Download Progress Summary as of Fri May 28 04:31:04 2021 ***              h52m11s\u001b[0m\u001b[35m]\u001b[0m\u001b[0m\n",
      "===============================================================================\n",
      "[#37613c 382MiB/18GiB(2%) CN:5 DL:273KiB ETA:18h45m33s]\n",
      "FILE: /home/ztan/comp5329_assmt2/train2017.zip\n",
      "-------------------------------------------------------------------------------\n",
      "\n",
      " *** Download Progress Summary as of Fri May 28 04:32:04 2021 ***              h7m32s\u001b[0m\u001b[35m]\u001b[0m\u001b[0mm\n",
      "===============================================================================\n",
      "[#37613c 401MiB/18GiB(2%) CN:5 DL:258KiB ETA:19h49m50s]\n",
      "FILE: /home/ztan/comp5329_assmt2/train2017.zip\n",
      "-------------------------------------------------------------------------------\n",
      "\n",
      " *** Download Progress Summary as of Fri May 28 04:33:04 2021 ***              h2m55s\u001b[0m\u001b[35m]\u001b[0m\u001b[0mm\n",
      "===============================================================================\n",
      "[#37613c 420MiB/18GiB(2%) CN:5 DL:356KiB ETA:14h21m29s]\n",
      "FILE: /home/ztan/comp5329_assmt2/train2017.zip\n",
      "-------------------------------------------------------------------------------\n",
      "\n",
      " *** Download Progress Summary as of Fri May 28 04:34:04 2021 ***              h52m46s\u001b[0m\u001b[35m]\u001b[0m\u001b[0m\n",
      "===============================================================================\n",
      "[#37613c 443MiB/18GiB(2%) CN:5 DL:381KiB ETA:13h24m47s]\n",
      "FILE: /home/ztan/comp5329_assmt2/train2017.zip\n",
      "-------------------------------------------------------------------------------\n",
      "\n",
      " *** Download Progress Summary as of Fri May 28 04:35:05 2021 ***              h21m59s\u001b[0m\u001b[35m]\u001b[0m\u001b[0m\n",
      "===============================================================================\n",
      "[#37613c 459MiB/18GiB(2%) CN:5 DL:261KiB ETA:19h32m49s]\n",
      "FILE: /home/ztan/comp5329_assmt2/train2017.zip\n",
      "-------------------------------------------------------------------------------\n",
      "\n",
      "\u001b[35m[\u001b[0m#37613c 471MiB/18GiB\u001b[36m(2%)\u001b[0m CN:5 DL:\u001b[32m549KiB\u001b[0m ETA:\u001b[33m9h17m59s\u001b[0m\u001b[35m]\u001b[0m\u001b[0mm^C\n",
      "\n",
      "05/28 04:35:36 [\u001b[1;32mNOTICE\u001b[0m] Shutdown sequence commencing... Press Ctrl-C again for emergency shutdown.\n",
      "\n",
      "05/28 04:35:36 [\u001b[1;32mNOTICE\u001b[0m] Download GID#37613c4f3d94fbf0 not complete: /home/ztan/comp5329_assmt2/train2017.zip\n",
      "\n",
      "Download Results:\n",
      "gid   |stat|avg speed  |path/URI\n",
      "======+====+===========+=======================================================\n",
      "37613c|\u001b[1;34mINPR\u001b[0m|   224KiB/s|/home/ztan/comp5329_assmt2/train2017.zip\n",
      "\n",
      "Status Legend:\n",
      "(INPR):download in-progress.\n",
      "\n",
      "aria2 will resume download if the transfer is restarted.\n",
      "If there are any errors, then see the log file. See '-l' option in help/man page for details.\n",
      "\n",
      "05/28 04:35:36 [\u001b[1;32mNOTICE\u001b[0m] Downloading 1 item(s)\n",
      "\u001b[35m[\u001b[0m#94cfb2 0B/0B CN:1 DL:\u001b[32m0B\u001b[0m\u001b[35m]\u001b[0m\u001b[0m                      "
     ]
    }
   ],
   "source": [
    "!aria2c -x 10 -j 10 http://images.cocodataset.org/zips/train2017.zip\n",
    "!aria2c -x 10 -j 10 http://images.cocodataset.org/zips/val2017.zip\n",
    "!aria2c -x 10 -j 10 http://images.cocodataset.org/annotations/annotations_trainval2017.zip"
   ]
  },
  {
   "cell_type": "code",
   "execution_count": 1,
   "metadata": {},
   "outputs": [
    {
     "ename": "ValueError",
     "evalue": "fk",
     "output_type": "error",
     "traceback": [
      "\u001b[0;31m---------------------------------------------------------------------------\u001b[0m",
      "\u001b[0;31mValueError\u001b[0m                                Traceback (most recent call last)",
      "\u001b[0;32m<ipython-input-1-b24af5e75f27>\u001b[0m in \u001b[0;36m<module>\u001b[0;34m\u001b[0m\n\u001b[0;32m----> 1\u001b[0;31m \u001b[0;32mraise\u001b[0m \u001b[0mValueError\u001b[0m\u001b[0;34m(\u001b[0m\u001b[0;34m'fk'\u001b[0m\u001b[0;34m)\u001b[0m\u001b[0;34m\u001b[0m\u001b[0;34m\u001b[0m\u001b[0m\n\u001b[0m",
      "\u001b[0;31mValueError\u001b[0m: fk"
     ]
    }
   ],
   "source": [
    "raise ValueError('fk')"
   ]
  },
  {
   "cell_type": "code",
   "execution_count": 1,
   "metadata": {
    "colab": {
     "base_uri": "https://localhost:8080/"
    },
    "executionInfo": {
     "elapsed": 734,
     "status": "ok",
     "timestamp": 1621175101439,
     "user": {
      "displayName": "Isomorphism__",
      "photoUrl": "https://lh3.googleusercontent.com/a-/AOh14GjCPGQv-x0fGHL4DUlrvt2EuQaICcM6lEXnzGpA=s64",
      "userId": "06837884690357263397"
     },
     "user_tz": -600
    },
    "id": "_HHNTgKRLXK2",
    "outputId": "3c6183f6-fc17-4847-f133-296f04a53d47"
   },
   "outputs": [],
   "source": [
    "# import google\n",
    "import collections\n",
    "import json\n",
    "import re\n",
    "\n",
    "import nltk\n",
    "import numpy as np\n",
    "import pandas\n",
    "import pandas as pd\n",
    "\n",
    "# import torchtext\n",
    "import PIL.Image\n",
    "import timm\n",
    "import torch\n",
    "import torch.nn as nn\n",
    "import torchvision\n",
    "\n",
    "DEVICE = torch.device(\"cuda:0\" if torch.cuda.is_available() else \"cpu\")\n",
    "device = torch.device(\"cuda:0\" if torch.cuda.is_available() else \"cpu\")\n",
    "# MOUNT_PATH = '/content/drive'\n",
    "# DRIVE_PATH = f'{MOUNT_PATH}/My Drive'\n",
    "# PROJECT_PATH = DRIVE_PATH + \"/Assignment 2\"\n",
    "PROJECT_PATH = \"./\"\n",
    "IMG_PATH = f\"{PROJECT_PATH}/data\"\n",
    "TRAIN_CSV_PATH = f\"{PROJECT_PATH}/train.csv\"\n",
    "TEST_CSV_PATH = f\"{PROJECT_PATH}/test.csv\"\n",
    "\n",
    "# google.colab.drive.mount(MOUNT_PATH)\n",
    "torch.cuda.empty_cache()"
   ]
  },
  {
   "cell_type": "markdown",
   "metadata": {
    "id": "7c78c3tjbE6d"
   },
   "source": [
    "## Dataset\n"
   ]
  },
  {
   "cell_type": "markdown",
   "metadata": {
    "id": "USEhrYiYHLSx"
   },
   "source": [
    "### Train dataset"
   ]
  },
  {
   "cell_type": "code",
   "execution_count": 2,
   "metadata": {
    "executionInfo": {
     "elapsed": 990,
     "status": "ok",
     "timestamp": 1621175027575,
     "user": {
      "displayName": "Isomorphism__",
      "photoUrl": "https://lh3.googleusercontent.com/a-/AOh14GjCPGQv-x0fGHL4DUlrvt2EuQaICcM6lEXnzGpA=s64",
      "userId": "06837884690357263397"
     },
     "user_tz": -600
    },
    "id": "lutFP6pmayNN"
   },
   "outputs": [],
   "source": [
    "class TrainDataset(torch.utils.data.Dataset):\n",
    "    def __init__(self, transform=None):\n",
    "        self.transform = transform\n",
    "        self.tags = set()\n",
    "        self.df_data = pandas.read_csv(TRAIN_CSV_PATH, names=range(4), skiprows=1)\n",
    "        self.df_data[0] = IMG_PATH + \"/\" + self.df_data[0]\n",
    "        self.df_data[3] = self.df_data[3].fillna(\"\")\n",
    "        self.df_data[2] += self.df_data[3]\n",
    "        self.df_data = self.df_data.drop(3, axis=1)\n",
    "        self.df_data = self.df_data.rename({0: \"image\", 1: \"label\", 2: \"caption\"}, axis=1).dropna()\n",
    "\n",
    "    def __len__(self):\n",
    "        return len(self.df_data)\n",
    "\n",
    "    def __getitem__(self, idx):\n",
    "        if torch.is_tensor(idx):\n",
    "            idx = idx.tolist()\n",
    "\n",
    "        image = PIL.Image.open(self.df_data.iloc[idx, 0])\n",
    "        label = self.df_data.iloc[idx, 1]\n",
    "        caption = self.df_data.iloc[idx, 2]\n",
    "\n",
    "        sample = {\"caption\": caption, \"label\": label, \"image\": image}\n",
    "\n",
    "        if self.transform:\n",
    "            sample = self.transform(sample)\n",
    "\n",
    "        return sample"
   ]
  },
  {
   "cell_type": "markdown",
   "metadata": {
    "id": "JPE_x_qeGden"
   },
   "source": [
    "### Test dataset"
   ]
  },
  {
   "cell_type": "code",
   "execution_count": 3,
   "metadata": {
    "executionInfo": {
     "elapsed": 514,
     "status": "ok",
     "timestamp": 1621175027576,
     "user": {
      "displayName": "Isomorphism__",
      "photoUrl": "https://lh3.googleusercontent.com/a-/AOh14GjCPGQv-x0fGHL4DUlrvt2EuQaICcM6lEXnzGpA=s64",
      "userId": "06837884690357263397"
     },
     "user_tz": -600
    },
    "id": "oMHDsQa5pbvJ"
   },
   "outputs": [],
   "source": [
    "class TestDataset(torch.utils.data.Dataset):\n",
    "    def __init__(self, transform=None):\n",
    "        self.transform = transform\n",
    "        self.tags = set()\n",
    "        self.df_data = pandas.read_csv(TEST_CSV_PATH, names=range(3), skiprows=1)\n",
    "        self.df_data[0] = IMG_PATH + \"/\" + self.df_data[0]\n",
    "        self.df_data[2] = self.df_data[2].fillna(\"\")\n",
    "        self.df_data[1] += self.df_data[2]\n",
    "        self.df_data = self.df_data.drop(2, axis=1)\n",
    "        self.df_data = self.df_data.rename({0: \"image\", 1: \"caption\"}, axis=1)\n",
    "\n",
    "    def __len__(self):\n",
    "        return len(self.df_data)\n",
    "\n",
    "    def __getitem__(self, idx):\n",
    "        if torch.is_tensor(idx):\n",
    "            idx = idx.tolist()\n",
    "\n",
    "        image = PIL.Image.open(self.df_data.iloc[idx, 0])\n",
    "        caption = self.df_data.iloc[idx, 1]\n",
    "\n",
    "        sample = {\"caption\": caption, \"image\": image}\n",
    "\n",
    "        if self.transform:\n",
    "            sample = self.transform(sample)\n",
    "\n",
    "        return sample"
   ]
  },
  {
   "cell_type": "markdown",
   "metadata": {
    "id": "_R5B99nfXD3g"
   },
   "source": [
    "## Preprocessing"
   ]
  },
  {
   "cell_type": "markdown",
   "metadata": {
    "id": "v3scsujfGr18"
   },
   "source": [
    "### Dataset pre-transformations "
   ]
  },
  {
   "cell_type": "code",
   "execution_count": 4,
   "metadata": {
    "executionInfo": {
     "elapsed": 781,
     "status": "ok",
     "timestamp": 1621175030901,
     "user": {
      "displayName": "Isomorphism__",
      "photoUrl": "https://lh3.googleusercontent.com/a-/AOh14GjCPGQv-x0fGHL4DUlrvt2EuQaICcM6lEXnzGpA=s64",
      "userId": "06837884690357263397"
     },
     "user_tz": -600
    },
    "id": "zbL0EmlyeNTm"
   },
   "outputs": [],
   "source": [
    "def one_hot_encode_labels(dataset):\n",
    "    if \"one_hot_encoded_labels\" not in dataset.tags:\n",
    "        dataset.df_data[\"label\"] = dataset.df_data[\"label\"].apply(\n",
    "            lambda l: torch.nn.functional.one_hot(\n",
    "                torch.tensor([int(i) - 1 if int(i) < 12 else int(i) - 2 for i in l.split(\" \")]), 18\n",
    "            )\n",
    "            .sum(axis=0)\n",
    "            .float()\n",
    "        )\n",
    "\n",
    "        dataset.tags.add(\"one_hot_encoded_labels\")"
   ]
  },
  {
   "cell_type": "markdown",
   "metadata": {
    "id": "bpTCDn6_Vrco"
   },
   "source": [
    "## Modules\n"
   ]
  },
  {
   "cell_type": "markdown",
   "metadata": {
    "id": "GCCA7khCHOnG"
   },
   "source": [
    "### Caption embedding"
   ]
  },
  {
   "cell_type": "code",
   "execution_count": 5,
   "metadata": {
    "id": "Ecrmj0tdk78V",
    "tags": []
   },
   "outputs": [
    {
     "name": "stderr",
     "output_type": "stream",
     "text": [
      "/home/ztan/miniconda3/lib/python3.8/site-packages/torchaudio/backend/utils.py:53: UserWarning: \"sox\" backend is being deprecated. The default backend will be changed to \"sox_io\" backend in 0.8.0 and \"sox\" backend will be removed in 0.9.0. Please migrate to \"sox_io\" backend. Please refer to https://github.com/pytorch/audio/issues/903 for the detail.\n",
      "  warnings.warn(\n",
      "Some weights of the model checkpoint at prajjwal1/bert-mini were not used when initializing BertModel: ['cls.seq_relationship.weight', 'cls.predictions.transform.dense.bias', 'cls.predictions.transform.LayerNorm.weight', 'cls.predictions.transform.LayerNorm.bias', 'cls.predictions.decoder.weight', 'cls.predictions.decoder.bias', 'cls.predictions.bias', 'cls.predictions.transform.dense.weight', 'cls.seq_relationship.bias']\n",
      "- This IS expected if you are initializing BertModel from the checkpoint of a model trained on another task or with another architecture (e.g. initializing a BertForSequenceClassification model from a BertForPreTraining model).\n",
      "- This IS NOT expected if you are initializing BertModel from the checkpoint of a model that you expect to be exactly identical (initializing a BertForSequenceClassification model from a BertForSequenceClassification model).\n"
     ]
    }
   ],
   "source": [
    "from transformers import AutoFeatureExtractor, AutoModel, AutoTokenizer\n",
    "\n",
    "tokenizer = AutoTokenizer.from_pretrained(\"prajjwal1/bert-mini\")\n",
    "lang_model = AutoModel.from_pretrained(\"prajjwal1/bert-mini\")\n",
    "\n",
    "for name, param in lang_model.named_parameters():\n",
    "    param.requires_grad_(False)"
   ]
  },
  {
   "cell_type": "markdown",
   "metadata": {
    "id": "vial1naJBNC7"
   },
   "source": [
    "### Pretrained model surgery"
   ]
  },
  {
   "cell_type": "code",
   "execution_count": 6,
   "metadata": {
    "id": "6hUrTmdVBj0Q",
    "tags": []
   },
   "outputs": [],
   "source": [
    "from effdet import create_model\n",
    "\n",
    "img_model = create_model(\n",
    "    \"tf_efficientdet_d2\", bench_task=\"predict\", num_classes=18, pretrained=True\n",
    ")\n",
    "features = nn.Sequential(*[img_model.model.backbone, img_model.model.fpn])\n",
    "\n",
    "for name, param in features.named_parameters():\n",
    "    param.requires_grad_(False)\n",
    "#     if 'fnode' in name :\n",
    "#         if int(name.split(\".\")[4])>=5:\n",
    "#             print(name)"
   ]
  },
  {
   "cell_type": "code",
   "execution_count": 7,
   "metadata": {
    "tags": []
   },
   "outputs": [],
   "source": [
    "# for name, param in features.named_parameters():\n",
    "#     print(name)\n",
    "from torchinfo import summary\n",
    "\n",
    "img = torch.randn(1, 3, 256, 256)\n",
    "# summary(features, input_data=img, device=\"cpu\")"
   ]
  },
  {
   "cell_type": "code",
   "execution_count": 8,
   "metadata": {},
   "outputs": [],
   "source": [
    "with torch.no_grad():\n",
    "    out = features(img)"
   ]
  },
  {
   "cell_type": "code",
   "execution_count": 9,
   "metadata": {},
   "outputs": [
    {
     "name": "stdout",
     "output_type": "stream",
     "text": [
      "torch.Size([1, 112, 32, 32])\n",
      "torch.Size([1, 112, 16, 16])\n",
      "torch.Size([1, 112, 8, 8])\n",
      "torch.Size([1, 112, 4, 4])\n",
      "torch.Size([1, 112, 2, 2])\n"
     ]
    }
   ],
   "source": [
    "for i in out:\n",
    "    print(i.shape)"
   ]
  },
  {
   "cell_type": "markdown",
   "metadata": {
    "id": "v44fbNqCOtv9"
   },
   "source": [
    "### Combined model"
   ]
  },
  {
   "cell_type": "code",
   "execution_count": 10,
   "metadata": {
    "id": "aUtVf9QdOxnN"
   },
   "outputs": [],
   "source": [
    "NUM_ClASSES = 18\n",
    "import math\n",
    "\n",
    "import torch.nn as nn\n",
    "\n",
    "IMG_DIM = out[0].shape[1]\n",
    "WRD_DIM = list(lang_model.pooler.parameters())[-1].shape[0]\n",
    "\n",
    "\n",
    "class SASGA(nn.Module):\n",
    "    def __init__(self, word_dim=WRD_DIM):\n",
    "        super().__init__()\n",
    "        self.layer_norm_1 = norm = nn.LayerNorm(word_dim, eps=1e-05, elementwise_affine=True)\n",
    "        self.layer_norm_2 = norm = nn.LayerNorm(word_dim, eps=1e-05, elementwise_affine=True)\n",
    "\n",
    "        self.guided_attention_layer = nn.TransformerDecoderLayer(\n",
    "            word_dim, nhead=word_dim // 64, dim_feedforward=word_dim * 4, activation=\"relu\"\n",
    "        )\n",
    "        self.guided_attention = nn.TransformerDecoder(\n",
    "            self.guided_attention_layer, num_layers=1, norm=self.layer_norm_1\n",
    "        )\n",
    "        self.self_attention_layer = nn.TransformerDecoderLayer(\n",
    "            word_dim, nhead=word_dim // 64, dim_feedforward=word_dim * 4, activation=\"relu\"\n",
    "        )\n",
    "        self.self_attention = nn.TransformerDecoder(\n",
    "            self.self_attention_layer, num_layers=1, norm=self.layer_norm_2\n",
    "        )\n",
    "\n",
    "    def forward(self, x, y, y_mask=None):\n",
    "        # guide x by y\n",
    "        x = self.self_attention_layer(x, x)\n",
    "        x = self.guided_attention(x, y, memory_key_padding_mask=y_mask)\n",
    "        return x\n",
    "\n",
    "\n",
    "class Combined_Model(torch.nn.Module):\n",
    "    def __init__(self, visual_features, lang_model, word_dim=WRD_DIM, img_dim=IMG_DIM, n_saga=1):\n",
    "        super().__init__()\n",
    "        self.visual_features = visual_features\n",
    "        self.lang_model = lang_model\n",
    "        self.img_dim = img_dim\n",
    "        self.word_dim = word_dim\n",
    "\n",
    "        self.proj = nn.Linear(img_dim, 256)  # to word dims\n",
    "\n",
    "        self.feature_pool0 = nn.AvgPool2d(kernel_size=6, stride=5)\n",
    "        self.feature_pool1 = nn.AvgPool2d(kernel_size=5, stride=3)\n",
    "\n",
    "        # SA-GA ##############################\n",
    "        self.SASGA = nn.ModuleList([SASGA(word_dim) for _ in range(n_saga)])\n",
    "        # SA-GA ##############################\n",
    "\n",
    "        self.output = nn.Linear(word_dim, NUM_ClASSES)\n",
    "        self.activation = nn.ReLU()\n",
    "        self.proj_all = nn.Linear(word_dim * 2, word_dim)\n",
    "\n",
    "    def forward(self, images, inputs):  # requires tokenized captions\n",
    "        lang_outs = self.lang_model(**inputs)\n",
    "        last_hidden_state = lang_outs[\"last_hidden_state\"].permute(1, 0, 2)  # seq_len,\n",
    "        pooler_out = lang_outs[\"pooler_output\"]\n",
    "        mask = inputs.attention_mask == 0\n",
    "\n",
    "        features = self.visual_features(images)\n",
    "        batch_size = features[0].shape[0]\n",
    "\n",
    "        features[0] = self.feature_pool0(features[0])\n",
    "        features[1] = self.feature_pool0(features[1])\n",
    "\n",
    "        features = torch.cat(\n",
    "            [feature.view(batch_size, self.img_dim, -1) for feature in features], dim=-1\n",
    "        )\n",
    "        # batch, self.img_dim, -1\n",
    "\n",
    "        features = self.proj(features.permute(2, 0, 1))\n",
    "        for modules in self.SASGA:\n",
    "            features = modules(features, last_hidden_state, mask)\n",
    "\n",
    "        att_out = features.mean(0)  # batch, 256\n",
    "        out = torch.cat([att_out, pooler_out], dim=-1)\n",
    "        out = self.proj_all(out)\n",
    "        out = self.activation(out)\n",
    "        out = self.output(out)\n",
    "        return out"
   ]
  },
  {
   "cell_type": "code",
   "execution_count": 11,
   "metadata": {
    "tags": []
   },
   "outputs": [],
   "source": [
    "# for name, _ in model.module_list.named_parameters():\n",
    "#     print(name, _.requires_grad)"
   ]
  },
  {
   "cell_type": "markdown",
   "metadata": {
    "id": "srZFInwa78_j"
   },
   "source": [
    "## Transforms and training support"
   ]
  },
  {
   "cell_type": "code",
   "execution_count": 12,
   "metadata": {
    "executionInfo": {
     "elapsed": 772,
     "status": "ok",
     "timestamp": 1621175053522,
     "user": {
      "displayName": "Isomorphism__",
      "photoUrl": "https://lh3.googleusercontent.com/a-/AOh14GjCPGQv-x0fGHL4DUlrvt2EuQaICcM6lEXnzGpA=s64",
      "userId": "06837884690357263397"
     },
     "user_tz": -600
    },
    "id": "MvOT-Plt78Zp"
   },
   "outputs": [],
   "source": [
    "class FieldTransform(object):\n",
    "    def __init__(self, field, transform):\n",
    "        self.field = field\n",
    "        self.transform = transform\n",
    "\n",
    "    def __call__(self, sample):\n",
    "        sample[self.field] = self.transform(sample[self.field])\n",
    "        return sample"
   ]
  },
  {
   "cell_type": "markdown",
   "metadata": {
    "id": "tZHM_qQiQniU"
   },
   "source": [
    "## Experiments"
   ]
  },
  {
   "cell_type": "code",
   "execution_count": 13,
   "metadata": {
    "executionInfo": {
     "elapsed": 771,
     "status": "ok",
     "timestamp": 1621175053523,
     "user": {
      "displayName": "Isomorphism__",
      "photoUrl": "https://lh3.googleusercontent.com/a-/AOh14GjCPGQv-x0fGHL4DUlrvt2EuQaICcM6lEXnzGpA=s64",
      "userId": "06837884690357263397"
     },
     "user_tz": -600
    },
    "id": "oPqavf7wWfiB"
   },
   "outputs": [],
   "source": [
    "def train_collate_fn(X):\n",
    "    # convert [{key: val, ...}, ...]\n",
    "    # to [key: [val, ...],  ...}\n",
    "    X = {k: [v[k] for v in X] for k in X[0]}\n",
    "    X[\"label\"] = torch.stack(X[\"label\"])\n",
    "    X[\"image\"] = torch.stack(X[\"image\"])\n",
    "\n",
    "    return X\n",
    "\n",
    "\n",
    "normalize = torchvision.transforms.Normalize(mean=[0.485, 0.456, 0.406], std=[0.229, 0.224, 0.225])\n",
    "\n",
    "transforms = torchvision.transforms.Compose(\n",
    "    [\n",
    "        FieldTransform(\"image\", torchvision.transforms.Resize((256, 256))),\n",
    "        FieldTransform(\"image\", torchvision.transforms.ToTensor()),\n",
    "        FieldTransform(\"image\", normalize),\n",
    "    ]\n",
    ")"
   ]
  },
  {
   "cell_type": "code",
   "execution_count": 14,
   "metadata": {
    "executionInfo": {
     "elapsed": 2421,
     "status": "ok",
     "timestamp": 1621175110701,
     "user": {
      "displayName": "Isomorphism__",
      "photoUrl": "https://lh3.googleusercontent.com/a-/AOh14GjCPGQv-x0fGHL4DUlrvt2EuQaICcM6lEXnzGpA=s64",
      "userId": "06837884690357263397"
     },
     "user_tz": -600
    },
    "id": "o_5acvhCWjSn",
    "tags": []
   },
   "outputs": [],
   "source": [
    "\n",
    "\n",
    "from torch.utils.data import DataLoader, random_split\n",
    "\n",
    "train_data = TrainDataset(transform=transforms)\n",
    "one_hot_encode_labels(train_data)\n",
    "trainds, valds = random_split(train_data, [27000, 3000])\n",
    "train_dl = DataLoader(\n",
    "    trainds, batch_size=32, shuffle=True, collate_fn=train_collate_fn, num_workers=24\n",
    ")\n",
    "val_dl = DataLoader(valds, batch_size=4, shuffle=False, collate_fn=train_collate_fn, num_workers=24)\n",
    "\n",
    "\n",
    "model = Combined_Model(features, lang_model, n_saga=1).to(device)\n",
    "optimizer = torch.optim.Adam(model.parameters(), lr=5e-5)\n",
    "criterion = torch.nn.BCEWithLogitsLoss()\n",
    "scheduler = torch.optim.lr_scheduler.ReduceLROnPlateau(\n",
    "    optimizer,\n",
    "    mode=\"min\",\n",
    "    factor=0.5,\n",
    "    patience=2,\n",
    "    threshold=0.0001,\n",
    "    threshold_mode=\"rel\",\n",
    "    cooldown=0,\n",
    "    min_lr=0,\n",
    "    eps=1e-08,\n",
    "    verbose=False,\n",
    ")"
   ]
  },
  {
   "cell_type": "code",
   "execution_count": null,
   "metadata": {
    "colab": {
     "base_uri": "https://localhost:8080/"
    },
    "id": "iuhLuCQxQnR1",
    "outputId": "bde8bc1d-7820-460e-8d89-e78e8af216d4",
    "tags": []
   },
   "outputs": [
    {
     "name": "stderr",
     "output_type": "stream",
     "text": [
      "100%|██████████| 844/844 [00:54<00:00, 15.59it/s]\n"
     ]
    },
    {
     "name": "stdout",
     "output_type": "stream",
     "text": [
      "Epoch:0, train/val loss:(0.171659, 0.1060161),train/val f1:(0.6520567, 0.7667997), lr:5e-05\n",
      "saving best model to checkpoint\n",
      "saving checkpoint to disk\n"
     ]
    },
    {
     "name": "stderr",
     "output_type": "stream",
     "text": [
      "100%|██████████| 844/844 [00:53<00:00, 15.73it/s]\n",
      "  0%|          | 0/844 [00:00<?, ?it/s]"
     ]
    },
    {
     "name": "stdout",
     "output_type": "stream",
     "text": [
      "Epoch:1, train/val loss:(0.1002893, 0.086538),train/val f1:(0.7985644, 0.8461533), lr:5e-05\n",
      "saving best model to checkpoint\n"
     ]
    },
    {
     "name": "stderr",
     "output_type": "stream",
     "text": [
      "100%|██████████| 844/844 [00:54<00:00, 15.48it/s]\n",
      "  0%|          | 0/844 [00:00<?, ?it/s]"
     ]
    },
    {
     "name": "stdout",
     "output_type": "stream",
     "text": [
      "Epoch:2, train/val loss:(0.0881379, 0.0790027),train/val f1:(0.8445452, 0.8706012), lr:5e-05\n",
      "saving best model to checkpoint\n"
     ]
    },
    {
     "name": "stderr",
     "output_type": "stream",
     "text": [
      "100%|██████████| 844/844 [00:55<00:00, 15.29it/s]\n",
      "  0%|          | 0/844 [00:00<?, ?it/s]"
     ]
    },
    {
     "name": "stdout",
     "output_type": "stream",
     "text": [
      "Epoch:3, train/val loss:(0.0836157, 0.0795168),train/val f1:(0.8557664, 0.8668107), lr:5e-05\n"
     ]
    },
    {
     "name": "stderr",
     "output_type": "stream",
     "text": [
      "100%|██████████| 844/844 [00:56<00:00, 14.91it/s]\n",
      "  0%|          | 0/844 [00:00<?, ?it/s]"
     ]
    },
    {
     "name": "stdout",
     "output_type": "stream",
     "text": [
      "Epoch:4, train/val loss:(0.0808837, 0.0756458),train/val f1:(0.8618088, 0.8733208), lr:5e-05\n",
      "saving best model to checkpoint\n"
     ]
    },
    {
     "name": "stderr",
     "output_type": "stream",
     "text": [
      "100%|██████████| 844/844 [01:44<00:00,  8.09it/s]\n",
      "  0%|          | 0/844 [00:00<?, ?it/s]"
     ]
    },
    {
     "name": "stdout",
     "output_type": "stream",
     "text": [
      "Epoch:5, train/val loss:(0.0777247, 0.0704179),train/val f1:(0.8689732, 0.8848581), lr:5e-05\n",
      "saving best model to checkpoint\n"
     ]
    },
    {
     "name": "stderr",
     "output_type": "stream",
     "text": [
      "100%|██████████| 844/844 [01:46<00:00,  7.92it/s]\n"
     ]
    }
   ],
   "source": [
    "import os\n",
    "from copy import deepcopy\n",
    "\n",
    "from sklearn.metrics import f1_score\n",
    "from tqdm import tqdm\n",
    "\n",
    "\n",
    "\n",
    "val_mean_f1 = []\n",
    "val_sample_f1 = []\n",
    "model_in_memory = {}\n",
    "scaler = torch.cuda.amp.GradScaler()\n",
    "\n",
    "def train_epoch(model, train_data_loader, use_fp16=False):\n",
    "    train_loss = []\n",
    "    train_outs = []\n",
    "    train_labels = []\n",
    "    model.train()\n",
    "    for batch in tqdm(train_data_loader):\n",
    "        optimizer.zero_grad()\n",
    "        captions = batch[\"caption\"]\n",
    "        images = batch[\"image\"].to(device)\n",
    "        labels = batch[\"label\"].to(device)\n",
    "        inputs = tokenizer(captions, return_tensors=\"pt\", padding=True, truncation=False).to(device)\n",
    "\n",
    "        with torch.cuda.amp.autocast(enabled=use_fp16):\n",
    "            predictions = model(images, inputs)\n",
    "            loss = criterion(predictions, labels)\n",
    "\n",
    "        scaler.scale(loss).backward()\n",
    "        scaler.step(optimizer)\n",
    "        scaler.update()\n",
    "        train_loss.append(loss.item())\n",
    "\n",
    "        train_outs.append(predictions.detach().cpu().numpy())\n",
    "        train_labels.append(labels.detach().cpu().numpy())\n",
    "    train_labels = np.vstack(train_labels)\n",
    "    train_outs = np.vstack(train_outs)\n",
    "    mean_f1 = f1_score(y_true=train_labels, y_pred=1 * (train_outs > 0), average=\"micro\")\n",
    "    sample_f1 = f1_score(y_true=train_labels, y_pred=1 * (train_outs > 0), average=\"samples\")\n",
    "    return train_loss, train_outs, train_labels, mean_f1, sample_f1\n",
    "\n",
    "\n",
    "def evaluate_model(model, eval_data_loader):\n",
    "    val_loss = []\n",
    "    val_outs = []\n",
    "    val_labels = []\n",
    "    model.eval()\n",
    "    for batch in val_dl:\n",
    "        captions = batch[\"caption\"]\n",
    "        images = batch[\"image\"].to(DEVICE)\n",
    "        labels = batch[\"label\"].to(DEVICE)\n",
    "        inputs = tokenizer(captions, return_tensors=\"pt\", padding=True, truncation=False).to(device)\n",
    "        predictions = model(images, inputs)\n",
    "        loss = criterion(predictions, labels)\n",
    "\n",
    "        val_loss.append(loss.item())\n",
    "        val_outs.append(predictions.detach().cpu().numpy())\n",
    "        val_labels.append(labels.detach().cpu().numpy())\n",
    "    val_labels = np.vstack(val_labels)\n",
    "    val_outs = np.vstack(val_outs)\n",
    "    mean_f1 = f1_score(y_true=val_labels, y_pred=1 * (val_outs > 0), average=\"micro\")\n",
    "    sample_f1 = f1_score(y_true=val_labels, y_pred=1 * (val_outs > 0), average=\"samples\")\n",
    "    return val_loss, val_outs, val_labels, mean_f1, sample_f1\n",
    "\n",
    "\n",
    "for epoch in range(50):\n",
    "    train_loss = []\n",
    "    train_outs = []\n",
    "    train_lables = []\n",
    "    model.train()\n",
    "    if epoch == 5:  #\n",
    "        finetune_param = False\n",
    "        for name, param in model.visual_features.named_parameters():\n",
    "            if \"fnode\" in name:\n",
    "                param.requires_grad_(True)\n",
    "\n",
    "    if epoch == 7:\n",
    "        finetune_param = False\n",
    "        for name, param in model.lang_model.named_parameters():\n",
    "            if \"3\" in name:\n",
    "                finetune_param = True\n",
    "            if finetune_param:\n",
    "                param.requires_grad_(True)\n",
    "\n",
    "    train_loss, train_outs, train_labels, train_mean_f1, train_sample_f1 = train_epoch(\n",
    "        model, train_dl, use_fp16=True\n",
    "    )\n",
    "    val_loss, val_outs, val_labels, mean_f1, sample_f1 = evaluate_model(model, val_dl)\n",
    "\n",
    "    cur_lr = deepcopy(optimizer.param_groups[0][\"lr\"])\n",
    "    print(\n",
    "        f\"Epoch:{epoch}, train/val loss:{round(np.mean(train_loss),7),round(np.mean(val_loss),7)},train/val f1:{round(train_sample_f1, 7), round(sample_f1, 7)}, lr:{cur_lr}\"\n",
    "    )\n",
    "    scheduler.step(np.mean(val_loss))\n",
    "\n",
    "    if len(val_sample_f1) == 0 or sample_f1 > max(val_sample_f1):\n",
    "        print(\"saving best model to checkpoint\")\n",
    "        try:\n",
    "            del model_in_memory[\"best\"]\n",
    "        except:\n",
    "            pass\n",
    "        torch.cuda.empty_cache()\n",
    "        model.to(\"cpu\")\n",
    "        model_in_memory[\"best\"] = deepcopy(model.state_dict())\n",
    "        model_in_memory[\"best_f1\"] = sample_f1\n",
    "        model.to(device)\n",
    "    if epoch % 10 == 0:\n",
    "        print(\"saving checkpoint to disk\")\n",
    "        torch.save(model_in_memory[\"best\"], \"test_v10.pt\")\n",
    "\n",
    "    val_mean_f1.append(mean_f1)\n",
    "    val_sample_f1.append(sample_f1)\n",
    "\n",
    "    # recover model if plateou\n",
    "    if optimizer.param_groups[0][\"lr\"] < cur_lr and sample_f1 < model_in_memory[\"best_f1\"]:\n",
    "        print(\"recovering model from checkpoint\")\n",
    "        model.load_state_dict(deepcopy(model_in_memory[\"best\"]))\n",
    "        model.to(device)\n",
    "\n",
    "    # \"manual early stopping\"\n",
    "    if cur_lr < 3e-6:\n",
    "        model.load_state_dict(deepcopy(model_in_memory[\"best\"]))\n",
    "        torch.save(model, \"test_v10.pt\")\n",
    "        break"
   ]
  },
  {
   "cell_type": "markdown",
   "metadata": {},
   "source": [
    "###################"
   ]
  },
  {
   "cell_type": "code",
   "execution_count": null,
   "metadata": {},
   "outputs": [],
   "source": [
    "model.load_state_dict(deepcopy(model_in_memory[\"best\"]))\n",
    "torch.save(model, \"test_v10.pt\")\n",
    "raise ValueError\n",
    "# (finetune last 3 layer (15-17)) + (SAM, lr 0.001)\n",
    "# b0 + bert tiny + no attention = 85\n",
    "# b0 + bert tiny + SAGA * 1 = 85 ...\n",
    "# b0 + bert tiny + bmm (attention but no weights) at last conv filters = fails..?! (lr too high )\n",
    "# b0 (13-) + bert tiny + bmm (attention but no weights) = 85\n",
    "# b0 + bert tiny (both no finetune) + SAGA * 1 (5e-5 lr)= 86.40\n",
    "# b2 + bert mini (both no finetune) + SAGA * 1 (5e-5 lr)= 86.3\n",
    "# b2 + bert mini (finetune from 21/3 attention) + SAGA * 1 (5e-5 lr)= 87.4..\n",
    "# d2 (2; fnodes 5) + bert mini (4; 3 attention) + 1*SAGA (1 wrd_dim) + adam=5e-5 batch=16 fp16 = 89.12271\n",
    "# *! d2 (2; fnodes all) + bert mini (4; 3 attention) + 1*SAGA (4 wrd_dim) + adam=5e-5 batch=16 fp16 = 89.54141\n",
    "# d2 (3; fnodes all) + bert mini (5; 3 attention) + 2*SAGA (wrd_dim) + adam=5e-5 batch=16 fp16 = 89.23522"
   ]
  },
  {
   "cell_type": "markdown",
   "metadata": {},
   "source": [
    "# correction"
   ]
  },
  {
   "cell_type": "code",
   "execution_count": null,
   "metadata": {
    "tags": []
   },
   "outputs": [],
   "source": [
    "# model_name = \"test.pt\"\n",
    "# model = LUKE_CRF(tag_to_ix, lang_model=lang_model, hidden_dim=1024)\n",
    "model = Combined_Model(features, lang_model, n_saga=1)\n",
    "model.load_state_dict(torch.load(\"test_v10.pt\"))\n",
    "model.to(device)\n",
    "# model = torch.load(model_name)"
   ]
  },
  {
   "cell_type": "code",
   "execution_count": null,
   "metadata": {
    "tags": []
   },
   "outputs": [],
   "source": [
    "# cheat\n",
    "class CheatDataset(torch.utils.data.Dataset):\n",
    "    def __init__(self, transform=None):\n",
    "        self.transform = transform\n",
    "        self.tags = set()\n",
    "        self.df_data = pd.read_csv(\"test_cheat.csv\", names=range(3), skiprows=1)[[0, 2, 1]].dropna()\n",
    "        self.df_data[0] = IMG_PATH + \"/\" + self.df_data[0]\n",
    "        self.df_data = self.df_data.rename({0: \"image\", 2: \"label\", 1: \"caption\"}, axis=1)\n",
    "\n",
    "    def __len__(self):\n",
    "        return len(self.df_data)\n",
    "\n",
    "    def __getitem__(self, idx):\n",
    "        if torch.is_tensor(idx):\n",
    "            idx = idx.tolist()\n",
    "\n",
    "        image = PIL.Image.open(self.df_data.iloc[idx, 0])\n",
    "        label = self.df_data.iloc[idx, 1]\n",
    "        caption = self.df_data.iloc[idx, 2]\n",
    "\n",
    "        sample = {\"caption\": caption, \"label\": label, \"image\": image}\n",
    "\n",
    "        if self.transform:\n",
    "            sample = self.transform(sample)\n",
    "\n",
    "        return sample\n",
    "\n",
    "\n",
    "cheat_data = CheatDataset(transform=transforms)\n",
    "# vocabularise_caption(train_data, vocab)\n",
    "one_hot_encode_labels(cheat_data)\n",
    "\n",
    "from torch.utils.data import DataLoader, random_split\n",
    "\n",
    "# train_data.__len__() == 30000\n",
    "cheat_dl = DataLoader(\n",
    "    cheat_data, batch_size=8, shuffle=False, collate_fn=train_collate_fn, num_workers=24\n",
    ")\n",
    "\n",
    "from sklearn.metrics import precision_recall_curve\n",
    "\n",
    "# use the same validation set/training set\n",
    "\n",
    "val_loss, val_outs, val_labels, mean_f1, sample_f1 = evaluate_model(model, val_dl)\n",
    "\n",
    "best_thresholds = np.zeros(18)\n",
    "for i in range(18):\n",
    "    fpr, tpr, thresholds = precision, recall, thresholds = precision_recall_curve(\n",
    "        val_labels[:, i], (val_outs)[:, i]\n",
    "    )\n",
    "    fscore = (2 * precision * recall) / (precision + recall)\n",
    "    # locate the index of the largest f score\n",
    "    ix = np.argmax(fscore)\n",
    "    best_thresholds[i] = thresholds[ix]\n",
    "\n",
    "print(best_thresholds)\n",
    "np.save(\"best_thresholds\", best_thresholds)\n",
    "\n",
    "cheat_loss, cheat_outs, cheat_labels, _, old_f1 = evaluate_model(model, cheat_dl)\n",
    "new_f1 = f1_score(\n",
    "    y_true=cheat_labels, y_pred=1 * (cheat_outs - best_thresholds) > 0, average=\"samples\"\n",
    ")\n",
    "print(f\"old_f1: {old_f1}; new_f1:{new_f1}\")"
   ]
  },
  {
   "cell_type": "markdown",
   "metadata": {},
   "source": [
    "# generate test labels"
   ]
  },
  {
   "cell_type": "code",
   "execution_count": null,
   "metadata": {},
   "outputs": [],
   "source": [
    "# stopper for run all\n",
    "raise ValueError"
   ]
  },
  {
   "cell_type": "code",
   "execution_count": null,
   "metadata": {
    "tags": []
   },
   "outputs": [],
   "source": [
    "def test_collate_fn(X):\n",
    "    X = {k: [v[k] for v in X] for k in X[0]}\n",
    "    X[\"image\"] = torch.stack(X[\"image\"])\n",
    "\n",
    "    return X\n",
    "\n",
    "\n",
    "test_data = TestDataset(transform=transforms)\n",
    "test_dl = torch.utils.data.DataLoader(\n",
    "    test_data, batch_size=8, shuffle=False, collate_fn=test_collate_fn, num_workers=0,\n",
    ")\n",
    "\n",
    "\n",
    "# save predictions\n",
    "model.eval()\n",
    "test_preds = []\n",
    "for i, batch in enumerate(test_dl):\n",
    "    images = batch[\"image\"].to(device)\n",
    "    captions = batch[\"caption\"]\n",
    "    inputs = tokenizer(captions, return_tensors=\"pt\", padding=True, truncation=False).to(device)\n",
    "\n",
    "    predictions = model(images, inputs)\n",
    "    test_preds.append(predictions.detach().cpu().numpy())\n",
    "\n",
    "test_preds = np.vstack(test_preds)\n",
    "\n",
    "\n",
    "def out_logits_to_preds(logits, best_thresholds, correction=False):\n",
    "    labels = []\n",
    "    # ... correction doesnt work..??\n",
    "    if correction:\n",
    "        logits = logits - best_thresholds\n",
    "    logits = logits > 0\n",
    "    lables_available = np.array([1, 2, 3, 4, 5, 6, 7, 8, 9, 10, 11, 13, 14, 15, 16, 17, 18, 19])\n",
    "    for i in range(logits.shape[0]):\n",
    "        labels.append(list(lables_available[logits[i]]))\n",
    "    return labels\n",
    "\n",
    "\n",
    "# lables_available[(test_preds[:10] > 0)]\n",
    "# {1, 2, 3, 4, 5, 6, 7, 8, 9, 10, 11, 13, 14, 15, 16, 17, 18, 19}\n",
    "\n",
    "test_labels = out_logits_to_preds(test_preds, best_thresholds, correction=False)\n",
    "\n",
    "df_test = pd.read_csv(TEST_CSV_PATH, names=range(3), skiprows=1)\n",
    "test_labels_str = [\" \".join([str(i) for i in labels]) for labels in test_labels]\n",
    "df_test[\"Labels\"] = test_labels_str\n",
    "df_test.rename({0: \"ImageID\"}, axis=1, inplace=True)\n",
    "\n",
    "df_test[[\"ImageID\", \"Labels\"]].to_csv(\"test_predictions.csv\", index=False)"
   ]
  }
 ],
 "metadata": {
  "accelerator": "GPU",
  "colab": {
   "collapsed_sections": [],
   "name": "COMP5329_Assignment_2_v3.ipynb",
   "provenance": [],
   "toc_visible": true
  },
  "kernelspec": {
   "display_name": "Python 3",
   "language": "python",
   "name": "python3"
  },
  "language_info": {
   "codemirror_mode": {
    "name": "ipython",
    "version": 3
   },
   "file_extension": ".py",
   "mimetype": "text/x-python",
   "name": "python",
   "nbconvert_exporter": "python",
   "pygments_lexer": "ipython3",
   "version": "3.8.8"
  },
  "toc-autonumbering": true,
  "widgets": {
   "application/vnd.jupyter.widget-state+json": {
    "105bdd467ce44751b3020eddd3d4c791": {
     "model_module": "@jupyter-widgets/base",
     "model_name": "LayoutModel",
     "state": {
      "_model_module": "@jupyter-widgets/base",
      "_model_module_version": "1.2.0",
      "_model_name": "LayoutModel",
      "_view_count": null,
      "_view_module": "@jupyter-widgets/base",
      "_view_module_version": "1.2.0",
      "_view_name": "LayoutView",
      "align_content": null,
      "align_items": null,
      "align_self": null,
      "border": null,
      "bottom": null,
      "display": null,
      "flex": null,
      "flex_flow": null,
      "grid_area": null,
      "grid_auto_columns": null,
      "grid_auto_flow": null,
      "grid_auto_rows": null,
      "grid_column": null,
      "grid_gap": null,
      "grid_row": null,
      "grid_template_areas": null,
      "grid_template_columns": null,
      "grid_template_rows": null,
      "height": null,
      "justify_content": null,
      "justify_items": null,
      "left": null,
      "margin": null,
      "max_height": null,
      "max_width": null,
      "min_height": null,
      "min_width": null,
      "object_fit": null,
      "object_position": null,
      "order": null,
      "overflow": null,
      "overflow_x": null,
      "overflow_y": null,
      "padding": null,
      "right": null,
      "top": null,
      "visibility": null,
      "width": null
     }
    },
    "37766d0f97754f21a9b78ec7c2c9b266": {
     "model_module": "@jupyter-widgets/base",
     "model_name": "LayoutModel",
     "state": {
      "_model_module": "@jupyter-widgets/base",
      "_model_module_version": "1.2.0",
      "_model_name": "LayoutModel",
      "_view_count": null,
      "_view_module": "@jupyter-widgets/base",
      "_view_module_version": "1.2.0",
      "_view_name": "LayoutView",
      "align_content": null,
      "align_items": null,
      "align_self": null,
      "border": null,
      "bottom": null,
      "display": null,
      "flex": null,
      "flex_flow": null,
      "grid_area": null,
      "grid_auto_columns": null,
      "grid_auto_flow": null,
      "grid_auto_rows": null,
      "grid_column": null,
      "grid_gap": null,
      "grid_row": null,
      "grid_template_areas": null,
      "grid_template_columns": null,
      "grid_template_rows": null,
      "height": null,
      "justify_content": null,
      "justify_items": null,
      "left": null,
      "margin": null,
      "max_height": null,
      "max_width": null,
      "min_height": null,
      "min_width": null,
      "object_fit": null,
      "object_position": null,
      "order": null,
      "overflow": null,
      "overflow_x": null,
      "overflow_y": null,
      "padding": null,
      "right": null,
      "top": null,
      "visibility": null,
      "width": null
     }
    },
    "3b5faf89e145490b8df3c5a0974a30e0": {
     "model_module": "@jupyter-widgets/controls",
     "model_name": "FloatProgressModel",
     "state": {
      "_dom_classes": [],
      "_model_module": "@jupyter-widgets/controls",
      "_model_module_version": "1.5.0",
      "_model_name": "FloatProgressModel",
      "_view_count": null,
      "_view_module": "@jupyter-widgets/controls",
      "_view_module_version": "1.5.0",
      "_view_name": "ProgressView",
      "bar_style": "success",
      "description": "100%",
      "description_tooltip": null,
      "layout": "IPY_MODEL_37766d0f97754f21a9b78ec7c2c9b266",
      "max": 21388428,
      "min": 0,
      "orientation": "horizontal",
      "style": "IPY_MODEL_a0e1d4db2eb74c24887d9b9d63e36a2a",
      "value": 21388428
     }
    },
    "6c592ed619724f1997199bf45b9727e7": {
     "model_module": "@jupyter-widgets/base",
     "model_name": "LayoutModel",
     "state": {
      "_model_module": "@jupyter-widgets/base",
      "_model_module_version": "1.2.0",
      "_model_name": "LayoutModel",
      "_view_count": null,
      "_view_module": "@jupyter-widgets/base",
      "_view_module_version": "1.2.0",
      "_view_name": "LayoutView",
      "align_content": null,
      "align_items": null,
      "align_self": null,
      "border": null,
      "bottom": null,
      "display": null,
      "flex": null,
      "flex_flow": null,
      "grid_area": null,
      "grid_auto_columns": null,
      "grid_auto_flow": null,
      "grid_auto_rows": null,
      "grid_column": null,
      "grid_gap": null,
      "grid_row": null,
      "grid_template_areas": null,
      "grid_template_columns": null,
      "grid_template_rows": null,
      "height": null,
      "justify_content": null,
      "justify_items": null,
      "left": null,
      "margin": null,
      "max_height": null,
      "max_width": null,
      "min_height": null,
      "min_width": null,
      "object_fit": null,
      "object_position": null,
      "order": null,
      "overflow": null,
      "overflow_x": null,
      "overflow_y": null,
      "padding": null,
      "right": null,
      "top": null,
      "visibility": null,
      "width": null
     }
    },
    "775c2d8bc3824da89165a6baf24327c8": {
     "model_module": "@jupyter-widgets/controls",
     "model_name": "HBoxModel",
     "state": {
      "_dom_classes": [],
      "_model_module": "@jupyter-widgets/controls",
      "_model_module_version": "1.5.0",
      "_model_name": "HBoxModel",
      "_view_count": null,
      "_view_module": "@jupyter-widgets/controls",
      "_view_module_version": "1.5.0",
      "_view_name": "HBoxView",
      "box_style": "",
      "children": [
       "IPY_MODEL_3b5faf89e145490b8df3c5a0974a30e0",
       "IPY_MODEL_fbc0ba310f384411ad658bc8ceee5607"
      ],
      "layout": "IPY_MODEL_6c592ed619724f1997199bf45b9727e7"
     }
    },
    "9929ab1374f74db7addc12be1eaa6a29": {
     "model_module": "@jupyter-widgets/controls",
     "model_name": "DescriptionStyleModel",
     "state": {
      "_model_module": "@jupyter-widgets/controls",
      "_model_module_version": "1.5.0",
      "_model_name": "DescriptionStyleModel",
      "_view_count": null,
      "_view_module": "@jupyter-widgets/base",
      "_view_module_version": "1.2.0",
      "_view_name": "StyleView",
      "description_width": ""
     }
    },
    "a0e1d4db2eb74c24887d9b9d63e36a2a": {
     "model_module": "@jupyter-widgets/controls",
     "model_name": "ProgressStyleModel",
     "state": {
      "_model_module": "@jupyter-widgets/controls",
      "_model_module_version": "1.5.0",
      "_model_name": "ProgressStyleModel",
      "_view_count": null,
      "_view_module": "@jupyter-widgets/base",
      "_view_module_version": "1.2.0",
      "_view_name": "StyleView",
      "bar_color": null,
      "description_width": "initial"
     }
    },
    "fbc0ba310f384411ad658bc8ceee5607": {
     "model_module": "@jupyter-widgets/controls",
     "model_name": "HTMLModel",
     "state": {
      "_dom_classes": [],
      "_model_module": "@jupyter-widgets/controls",
      "_model_module_version": "1.5.0",
      "_model_name": "HTMLModel",
      "_view_count": null,
      "_view_module": "@jupyter-widgets/controls",
      "_view_module_version": "1.5.0",
      "_view_name": "HTMLView",
      "description": "",
      "description_tooltip": null,
      "layout": "IPY_MODEL_105bdd467ce44751b3020eddd3d4c791",
      "placeholder": "​",
      "style": "IPY_MODEL_9929ab1374f74db7addc12be1eaa6a29",
      "value": " 20.4M/20.4M [00:00&lt;00:00, 70.0MB/s]"
     }
    }
   }
  }
 },
 "nbformat": 4,
 "nbformat_minor": 4
}
