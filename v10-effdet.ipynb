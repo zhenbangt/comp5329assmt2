{
 "cells": [
  {
   "cell_type": "markdown",
   "metadata": {
    "id": "NYTGkadIZh4_"
   },
   "source": [
    "# COMP5329 - Assignment 2"
   ]
  },
  {
   "cell_type": "code",
   "execution_count": 1,
   "metadata": {
    "colab": {
     "base_uri": "https://localhost:8080/"
    },
    "executionInfo": {
     "elapsed": 734,
     "status": "ok",
     "timestamp": 1621175101439,
     "user": {
      "displayName": "Isomorphism__",
      "photoUrl": "https://lh3.googleusercontent.com/a-/AOh14GjCPGQv-x0fGHL4DUlrvt2EuQaICcM6lEXnzGpA=s64",
      "userId": "06837884690357263397"
     },
     "user_tz": -600
    },
    "id": "_HHNTgKRLXK2",
    "outputId": "3c6183f6-fc17-4847-f133-296f04a53d47"
   },
   "outputs": [],
   "source": [
    "# import google\n",
    "import collections\n",
    "import json\n",
    "import re\n",
    "\n",
    "import nltk\n",
    "import numpy as np\n",
    "import pandas\n",
    "import pandas as pd\n",
    "\n",
    "# import torchtext\n",
    "import PIL.Image\n",
    "import timm\n",
    "import torch\n",
    "import torch.nn as nn\n",
    "import torchvision\n",
    "\n",
    "DEVICE = torch.device(\"cuda:0\" if torch.cuda.is_available() else \"cpu\")\n",
    "device = torch.device(\"cuda:0\" if torch.cuda.is_available() else \"cpu\")\n",
    "# MOUNT_PATH = '/content/drive'\n",
    "# DRIVE_PATH = f'{MOUNT_PATH}/My Drive'\n",
    "# PROJECT_PATH = DRIVE_PATH + \"/Assignment 2\"\n",
    "PROJECT_PATH = \"./\"\n",
    "IMG_PATH = f\"{PROJECT_PATH}/data\"\n",
    "TRAIN_CSV_PATH = f\"{PROJECT_PATH}/train.csv\"\n",
    "TEST_CSV_PATH = f\"{PROJECT_PATH}/test.csv\"\n",
    "\n",
    "# google.colab.drive.mount(MOUNT_PATH)\n",
    "torch.cuda.empty_cache()"
   ]
  },
  {
   "cell_type": "markdown",
   "metadata": {
    "id": "7c78c3tjbE6d"
   },
   "source": [
    "## Dataset\n"
   ]
  },
  {
   "cell_type": "markdown",
   "metadata": {
    "id": "USEhrYiYHLSx"
   },
   "source": [
    "### Train dataset"
   ]
  },
  {
   "cell_type": "code",
   "execution_count": 2,
   "metadata": {
    "executionInfo": {
     "elapsed": 990,
     "status": "ok",
     "timestamp": 1621175027575,
     "user": {
      "displayName": "Isomorphism__",
      "photoUrl": "https://lh3.googleusercontent.com/a-/AOh14GjCPGQv-x0fGHL4DUlrvt2EuQaICcM6lEXnzGpA=s64",
      "userId": "06837884690357263397"
     },
     "user_tz": -600
    },
    "id": "lutFP6pmayNN"
   },
   "outputs": [],
   "source": [
    "class TrainDataset(torch.utils.data.Dataset):\n",
    "    def __init__(self, transform=None):\n",
    "        self.transform = transform\n",
    "        self.tags = set()\n",
    "        self.df_data = pandas.read_csv(TRAIN_CSV_PATH, names=range(4), skiprows=1)\n",
    "        self.df_data[0] = IMG_PATH + \"/\" + self.df_data[0]\n",
    "        self.df_data[3] = self.df_data[3].fillna(\"\")\n",
    "        self.df_data[2] += self.df_data[3]\n",
    "        self.df_data = self.df_data.drop(3, axis=1)\n",
    "        self.df_data = self.df_data.rename({0: \"image\", 1: \"label\", 2: \"caption\"}, axis=1).dropna()\n",
    "\n",
    "    def __len__(self):\n",
    "        return len(self.df_data)\n",
    "\n",
    "    def __getitem__(self, idx):\n",
    "        if torch.is_tensor(idx):\n",
    "            idx = idx.tolist()\n",
    "\n",
    "        image = PIL.Image.open(self.df_data.iloc[idx, 0])\n",
    "        label = self.df_data.iloc[idx, 1]\n",
    "        caption = self.df_data.iloc[idx, 2]\n",
    "\n",
    "        sample = {\"caption\": caption, \"label\": label, \"image\": image}\n",
    "\n",
    "        if self.transform:\n",
    "            sample = self.transform(sample)\n",
    "\n",
    "        return sample"
   ]
  },
  {
   "cell_type": "markdown",
   "metadata": {
    "id": "JPE_x_qeGden"
   },
   "source": [
    "### Test dataset"
   ]
  },
  {
   "cell_type": "code",
   "execution_count": 3,
   "metadata": {
    "executionInfo": {
     "elapsed": 514,
     "status": "ok",
     "timestamp": 1621175027576,
     "user": {
      "displayName": "Isomorphism__",
      "photoUrl": "https://lh3.googleusercontent.com/a-/AOh14GjCPGQv-x0fGHL4DUlrvt2EuQaICcM6lEXnzGpA=s64",
      "userId": "06837884690357263397"
     },
     "user_tz": -600
    },
    "id": "oMHDsQa5pbvJ"
   },
   "outputs": [],
   "source": [
    "class TestDataset(torch.utils.data.Dataset):\n",
    "    def __init__(self, transform=None):\n",
    "        self.transform = transform\n",
    "        self.tags = set()\n",
    "        self.df_data = pandas.read_csv(TEST_CSV_PATH, names=range(3), skiprows=1)\n",
    "        self.df_data[0] = IMG_PATH + \"/\" + self.df_data[0]\n",
    "        self.df_data[2] = self.df_data[2].fillna(\"\")\n",
    "        self.df_data[1] += self.df_data[2]\n",
    "        self.df_data = self.df_data.drop(2, axis=1)\n",
    "        self.df_data = self.df_data.rename({0: \"image\", 1: \"caption\"}, axis=1)\n",
    "\n",
    "    def __len__(self):\n",
    "        return len(self.df_data)\n",
    "\n",
    "    def __getitem__(self, idx):\n",
    "        if torch.is_tensor(idx):\n",
    "            idx = idx.tolist()\n",
    "\n",
    "        image = PIL.Image.open(self.df_data.iloc[idx, 0])\n",
    "        caption = self.df_data.iloc[idx, 1]\n",
    "\n",
    "        sample = {\"caption\": caption, \"image\": image}\n",
    "\n",
    "        if self.transform:\n",
    "            sample = self.transform(sample)\n",
    "\n",
    "        return sample"
   ]
  },
  {
   "cell_type": "markdown",
   "metadata": {
    "id": "_R5B99nfXD3g"
   },
   "source": [
    "## Preprocessing"
   ]
  },
  {
   "cell_type": "markdown",
   "metadata": {
    "id": "v3scsujfGr18"
   },
   "source": [
    "### Dataset pre-transformations "
   ]
  },
  {
   "cell_type": "code",
   "execution_count": 4,
   "metadata": {
    "executionInfo": {
     "elapsed": 781,
     "status": "ok",
     "timestamp": 1621175030901,
     "user": {
      "displayName": "Isomorphism__",
      "photoUrl": "https://lh3.googleusercontent.com/a-/AOh14GjCPGQv-x0fGHL4DUlrvt2EuQaICcM6lEXnzGpA=s64",
      "userId": "06837884690357263397"
     },
     "user_tz": -600
    },
    "id": "zbL0EmlyeNTm"
   },
   "outputs": [],
   "source": [
    "def one_hot_encode_labels(dataset):\n",
    "    if \"one_hot_encoded_labels\" not in dataset.tags:\n",
    "        dataset.df_data[\"label\"] = dataset.df_data[\"label\"].apply(\n",
    "            lambda l: torch.nn.functional.one_hot(\n",
    "                torch.tensor([int(i) - 1 if int(i) < 12 else int(i) - 2 for i in l.split(\" \")]), 18\n",
    "            )\n",
    "            .sum(axis=0)\n",
    "            .float()\n",
    "        )\n",
    "\n",
    "        dataset.tags.add(\"one_hot_encoded_labels\")"
   ]
  },
  {
   "cell_type": "markdown",
   "metadata": {
    "id": "bpTCDn6_Vrco"
   },
   "source": [
    "## Modules\n"
   ]
  },
  {
   "cell_type": "markdown",
   "metadata": {
    "id": "GCCA7khCHOnG"
   },
   "source": [
    "### Caption embedding"
   ]
  },
  {
   "cell_type": "code",
   "execution_count": 5,
   "metadata": {
    "id": "Ecrmj0tdk78V",
    "tags": []
   },
   "outputs": [
    {
     "name": "stderr",
     "output_type": "stream",
     "text": [
      "/home/ztan/miniconda3/lib/python3.8/site-packages/torchaudio/backend/utils.py:53: UserWarning: \"sox\" backend is being deprecated. The default backend will be changed to \"sox_io\" backend in 0.8.0 and \"sox\" backend will be removed in 0.9.0. Please migrate to \"sox_io\" backend. Please refer to https://github.com/pytorch/audio/issues/903 for the detail.\n",
      "  warnings.warn(\n",
      "Some weights of the model checkpoint at prajjwal1/bert-mini were not used when initializing BertModel: ['cls.predictions.transform.LayerNorm.bias', 'cls.predictions.decoder.weight', 'cls.predictions.transform.LayerNorm.weight', 'cls.predictions.transform.dense.weight', 'cls.seq_relationship.weight', 'cls.predictions.transform.dense.bias', 'cls.seq_relationship.bias', 'cls.predictions.decoder.bias', 'cls.predictions.bias']\n",
      "- This IS expected if you are initializing BertModel from the checkpoint of a model trained on another task or with another architecture (e.g. initializing a BertForSequenceClassification model from a BertForPreTraining model).\n",
      "- This IS NOT expected if you are initializing BertModel from the checkpoint of a model that you expect to be exactly identical (initializing a BertForSequenceClassification model from a BertForSequenceClassification model).\n"
     ]
    }
   ],
   "source": [
    "from transformers import AutoFeatureExtractor, AutoModel, AutoTokenizer\n",
    "\n",
    "tokenizer = AutoTokenizer.from_pretrained(\"prajjwal1/bert-mini\")\n",
    "lang_model = AutoModel.from_pretrained(\"prajjwal1/bert-mini\")\n",
    "\n",
    "for name, param in lang_model.named_parameters():\n",
    "    param.requires_grad_(False)"
   ]
  },
  {
   "cell_type": "markdown",
   "metadata": {
    "id": "vial1naJBNC7"
   },
   "source": [
    "### Pretrained model surgery"
   ]
  },
  {
   "cell_type": "code",
   "execution_count": 6,
   "metadata": {
    "id": "6hUrTmdVBj0Q",
    "tags": []
   },
   "outputs": [],
   "source": [
    "from effdet import create_model\n",
    "\n",
    "img_model = create_model(\n",
    "    \"tf_efficientdet_d2\", bench_task=\"predict\", num_classes=18, pretrained=True\n",
    ")\n",
    "features = nn.Sequential(*[img_model.model.backbone, img_model.model.fpn])\n",
    "\n",
    "for name, param in features.named_parameters():\n",
    "    param.requires_grad_(False)"
   ]
  },
  {
   "cell_type": "markdown",
   "metadata": {
    "id": "v44fbNqCOtv9"
   },
   "source": [
    "### Combined model"
   ]
  },
  {
   "cell_type": "code",
   "execution_count": 8,
   "metadata": {
    "id": "aUtVf9QdOxnN"
   },
   "outputs": [],
   "source": [
    "NUM_ClASSES = 18\n",
    "import math\n",
    "\n",
    "import torch.nn as nn\n",
    "\n",
    "IMG_DIM = 112\n",
    "WRD_DIM = list(lang_model.pooler.parameters())[-1].shape[0]\n",
    "\n",
    "\n",
    "class SASGA(nn.Module):\n",
    "    def __init__(self, word_dim=WRD_DIM):\n",
    "        super().__init__()\n",
    "        self.layer_norm_1 = norm = nn.LayerNorm(word_dim, eps=1e-05, elementwise_affine=True)\n",
    "        self.layer_norm_2 = norm = nn.LayerNorm(word_dim, eps=1e-05, elementwise_affine=True)\n",
    "\n",
    "        self.guided_attention_layer = nn.TransformerDecoderLayer(\n",
    "            word_dim, nhead=word_dim // 64, dim_feedforward=word_dim * 4, activation=\"relu\"\n",
    "        )\n",
    "        self.guided_attention = nn.TransformerDecoder(\n",
    "            self.guided_attention_layer, num_layers=1, norm=self.layer_norm_1\n",
    "        )\n",
    "        self.self_attention_layer = nn.TransformerDecoderLayer(\n",
    "            word_dim, nhead=word_dim // 64, dim_feedforward=word_dim * 4, activation=\"relu\"\n",
    "        )\n",
    "        self.self_attention = nn.TransformerDecoder(\n",
    "            self.self_attention_layer, num_layers=1, norm=self.layer_norm_2\n",
    "        )\n",
    "\n",
    "    def forward(self, x, y, y_mask=None):\n",
    "        # guide x by y\n",
    "        x = self.self_attention_layer(x, x)\n",
    "        x = self.guided_attention(x, y, memory_key_padding_mask=y_mask)\n",
    "        return x\n",
    "\n",
    "\n",
    "class Combined_Model(torch.nn.Module):\n",
    "    def __init__(self, visual_features, lang_model, word_dim=WRD_DIM, img_dim=IMG_DIM, n_saga=1):\n",
    "        super().__init__()\n",
    "        self.visual_features = visual_features\n",
    "        self.lang_model = lang_model\n",
    "        self.img_dim = img_dim\n",
    "        self.word_dim = word_dim\n",
    "\n",
    "        self.proj = nn.Linear(img_dim, 256)  # to word dims\n",
    "\n",
    "        self.feature_pool0 = nn.AvgPool2d(kernel_size=6, stride=5)  # reduce feature size\n",
    "        self.feature_pool1 = nn.AvgPool2d(kernel_size=5, stride=3)  # reduce feature size\n",
    "\n",
    "        # SA-GA ##############################\n",
    "        self.SASGA = nn.ModuleList([SASGA(word_dim) for _ in range(n_saga)])\n",
    "        # SA-GA ##############################\n",
    "\n",
    "        self.output = nn.Linear(word_dim, NUM_ClASSES)\n",
    "        self.activation = nn.ReLU()\n",
    "        self.proj_all = nn.Linear(word_dim * 2, word_dim)\n",
    "\n",
    "    def forward(self, images, inputs):  # requires tokenized captions\n",
    "        lang_outs = self.lang_model(**inputs)\n",
    "        last_hidden_state = lang_outs[\"last_hidden_state\"].permute(\n",
    "            1, 0, 2\n",
    "        )  # seq_len, batch, word_dim\n",
    "        pooler_out = lang_outs[\"pooler_output\"]\n",
    "        mask = inputs.attention_mask == 0\n",
    "\n",
    "        features = self.visual_features(images)\n",
    "        batch_size = features[0].shape[0]\n",
    "\n",
    "        features[0] = self.feature_pool0(features[0])\n",
    "        features[1] = self.feature_pool0(features[1])\n",
    "\n",
    "        features = torch.cat(\n",
    "            [feature.view(batch_size, self.img_dim, -1) for feature in features], dim=-1\n",
    "        )\n",
    "        # batch, self.img_dim, -1\n",
    "\n",
    "        features = self.proj(features.permute(2, 0, 1))\n",
    "        for modules in self.SASGA:\n",
    "            features = modules(features, last_hidden_state, mask)\n",
    "\n",
    "        att_out = features.mean(0)  # batch, 256\n",
    "        out = torch.cat([att_out, pooler_out], dim=-1)\n",
    "        out = self.proj_all(out)\n",
    "        out = self.activation(out)\n",
    "        out = self.output(out)\n",
    "        return out"
   ]
  },
  {
   "cell_type": "markdown",
   "metadata": {
    "id": "srZFInwa78_j"
   },
   "source": [
    "## Transforms and training support"
   ]
  },
  {
   "cell_type": "code",
   "execution_count": 9,
   "metadata": {
    "executionInfo": {
     "elapsed": 772,
     "status": "ok",
     "timestamp": 1621175053522,
     "user": {
      "displayName": "Isomorphism__",
      "photoUrl": "https://lh3.googleusercontent.com/a-/AOh14GjCPGQv-x0fGHL4DUlrvt2EuQaICcM6lEXnzGpA=s64",
      "userId": "06837884690357263397"
     },
     "user_tz": -600
    },
    "id": "MvOT-Plt78Zp"
   },
   "outputs": [],
   "source": [
    "class FieldTransform(object):\n",
    "    def __init__(self, field, transform):\n",
    "        self.field = field\n",
    "        self.transform = transform\n",
    "\n",
    "    def __call__(self, sample):\n",
    "        sample[self.field] = self.transform(sample[self.field])\n",
    "        return sample"
   ]
  },
  {
   "cell_type": "markdown",
   "metadata": {
    "id": "tZHM_qQiQniU"
   },
   "source": [
    "## Experiments"
   ]
  },
  {
   "cell_type": "code",
   "execution_count": 10,
   "metadata": {
    "executionInfo": {
     "elapsed": 771,
     "status": "ok",
     "timestamp": 1621175053523,
     "user": {
      "displayName": "Isomorphism__",
      "photoUrl": "https://lh3.googleusercontent.com/a-/AOh14GjCPGQv-x0fGHL4DUlrvt2EuQaICcM6lEXnzGpA=s64",
      "userId": "06837884690357263397"
     },
     "user_tz": -600
    },
    "id": "oPqavf7wWfiB"
   },
   "outputs": [],
   "source": [
    "def train_collate_fn(X):\n",
    "    X = {k: [v[k] for v in X] for k in X[0]}\n",
    "    X[\"label\"] = torch.stack(X[\"label\"])\n",
    "    X[\"image\"] = torch.stack(X[\"image\"])\n",
    "\n",
    "    return X\n",
    "\n",
    "\n",
    "normalize = torchvision.transforms.Normalize(mean=[0.485, 0.456, 0.406], std=[0.229, 0.224, 0.225])\n",
    "\n",
    "transforms = torchvision.transforms.Compose(\n",
    "    [\n",
    "        FieldTransform(\"image\", torchvision.transforms.Resize((256, 256))),  # must be 256\n",
    "        FieldTransform(\"image\", torchvision.transforms.ToTensor()),\n",
    "        FieldTransform(\"image\", normalize),\n",
    "    ]\n",
    ")"
   ]
  },
  {
   "cell_type": "code",
   "execution_count": 11,
   "metadata": {
    "executionInfo": {
     "elapsed": 2421,
     "status": "ok",
     "timestamp": 1621175110701,
     "user": {
      "displayName": "Isomorphism__",
      "photoUrl": "https://lh3.googleusercontent.com/a-/AOh14GjCPGQv-x0fGHL4DUlrvt2EuQaICcM6lEXnzGpA=s64",
      "userId": "06837884690357263397"
     },
     "user_tz": -600
    },
    "id": "o_5acvhCWjSn",
    "tags": []
   },
   "outputs": [],
   "source": [
    "from torch.utils.data import DataLoader, random_split\n",
    "\n",
    "train_data = TrainDataset(transform=transforms)\n",
    "one_hot_encode_labels(train_data)\n",
    "trainds, valds = random_split(train_data, [27000, 3000])\n",
    "train_dl = DataLoader(\n",
    "    trainds, batch_size=32, shuffle=True, collate_fn=train_collate_fn, num_workers=24\n",
    ")\n",
    "val_dl = DataLoader(valds, batch_size=8, shuffle=False, collate_fn=train_collate_fn, num_workers=24)\n",
    "\n",
    "\n",
    "model = Combined_Model(features, lang_model, n_saga=1).to(device)\n",
    "optimizer = torch.optim.Adam(model.parameters(), lr=5e-5)\n",
    "criterion = torch.nn.BCEWithLogitsLoss()\n",
    "scheduler = torch.optim.lr_scheduler.ReduceLROnPlateau(\n",
    "    optimizer,\n",
    "    mode=\"min\",\n",
    "    factor=0.5,\n",
    "    patience=2,\n",
    "    threshold=0.0001,\n",
    "    threshold_mode=\"rel\",\n",
    "    cooldown=0,\n",
    "    min_lr=0,\n",
    "    eps=1e-08,\n",
    "    verbose=False,\n",
    ")"
   ]
  },
  {
   "cell_type": "code",
   "execution_count": null,
   "metadata": {
    "colab": {
     "base_uri": "https://localhost:8080/"
    },
    "collapsed": true,
    "id": "iuhLuCQxQnR1",
    "jupyter": {
     "outputs_hidden": true
    },
    "outputId": "bde8bc1d-7820-460e-8d89-e78e8af216d4",
    "tags": []
   },
   "outputs": [
    {
     "name": "stderr",
     "output_type": "stream",
     "text": [
      "100%|██████████| 844/844 [00:57<00:00, 14.65it/s]\n"
     ]
    },
    {
     "name": "stdout",
     "output_type": "stream",
     "text": [
      "Epoch:0, train/val loss:(0.1742228, 0.1063437),train/val f1:(0.6492601, 0.7575286), lr:5e-05\n",
      "Saving best model to checkpoint\n",
      "Saving checkpoint to disk\n"
     ]
    },
    {
     "name": "stderr",
     "output_type": "stream",
     "text": [
      "100%|██████████| 844/844 [00:58<00:00, 14.31it/s]\n",
      "  0%|          | 0/844 [00:00<?, ?it/s]"
     ]
    },
    {
     "name": "stdout",
     "output_type": "stream",
     "text": [
      "Epoch:1, train/val loss:(0.100015, 0.0871261),train/val f1:(0.7970685, 0.826672), lr:5e-05\n",
      "Saving best model to checkpoint\n"
     ]
    },
    {
     "name": "stderr",
     "output_type": "stream",
     "text": [
      "100%|██████████| 844/844 [00:58<00:00, 14.44it/s]\n",
      "  0%|          | 0/844 [00:00<?, ?it/s]"
     ]
    },
    {
     "name": "stdout",
     "output_type": "stream",
     "text": [
      "Epoch:2, train/val loss:(0.0886091, 0.0808574),train/val f1:(0.8396339, 0.8684139), lr:5e-05\n",
      "Saving best model to checkpoint\n"
     ]
    },
    {
     "name": "stderr",
     "output_type": "stream",
     "text": [
      "100%|██████████| 844/844 [00:59<00:00, 14.10it/s]\n",
      "  0%|          | 0/844 [00:00<?, ?it/s]"
     ]
    },
    {
     "name": "stdout",
     "output_type": "stream",
     "text": [
      "Epoch:3, train/val loss:(0.0835045, 0.0775065),train/val f1:(0.8545491, 0.8716836), lr:5e-05\n",
      "Saving best model to checkpoint\n"
     ]
    },
    {
     "name": "stderr",
     "output_type": "stream",
     "text": [
      "100%|██████████| 844/844 [00:59<00:00, 14.25it/s]\n",
      "  0%|          | 0/844 [00:00<?, ?it/s]"
     ]
    },
    {
     "name": "stdout",
     "output_type": "stream",
     "text": [
      "Epoch:4, train/val loss:(0.0807228, 0.0785767),train/val f1:(0.8609644, 0.8671204), lr:5e-05\n"
     ]
    },
    {
     "name": "stderr",
     "output_type": "stream",
     "text": [
      "100%|██████████| 844/844 [01:48<00:00,  7.80it/s]\n",
      "  0%|          | 0/844 [00:00<?, ?it/s]"
     ]
    },
    {
     "name": "stdout",
     "output_type": "stream",
     "text": [
      "Epoch:5, train/val loss:(0.0771688, 0.0723868),train/val f1:(0.8685983, 0.8839497), lr:5e-05\n",
      "Saving best model to checkpoint\n"
     ]
    },
    {
     "name": "stderr",
     "output_type": "stream",
     "text": [
      "100%|██████████| 844/844 [01:50<00:00,  7.64it/s]\n",
      "  0%|          | 0/844 [00:00<?, ?it/s]"
     ]
    },
    {
     "name": "stdout",
     "output_type": "stream",
     "text": [
      "Epoch:6, train/val loss:(0.0726353, 0.0722314),train/val f1:(0.8762299, 0.8822569), lr:5e-05\n"
     ]
    },
    {
     "name": "stderr",
     "output_type": "stream",
     "text": [
      "100%|██████████| 844/844 [01:56<00:00,  7.24it/s]\n",
      "  0%|          | 0/844 [00:00<?, ?it/s]"
     ]
    },
    {
     "name": "stdout",
     "output_type": "stream",
     "text": [
      "Epoch:7, train/val loss:(0.0689165, 0.070021),train/val f1:(0.8841227, 0.8884785), lr:5e-05\n",
      "Saving best model to checkpoint\n"
     ]
    },
    {
     "name": "stderr",
     "output_type": "stream",
     "text": [
      "100%|██████████| 844/844 [01:54<00:00,  7.38it/s]\n",
      "  0%|          | 0/844 [00:00<?, ?it/s]"
     ]
    },
    {
     "name": "stdout",
     "output_type": "stream",
     "text": [
      "Epoch:8, train/val loss:(0.0649263, 0.0684915),train/val f1:(0.891414, 0.892273), lr:5e-05\n",
      "Saving best model to checkpoint\n"
     ]
    },
    {
     "name": "stderr",
     "output_type": "stream",
     "text": [
      "100%|██████████| 844/844 [01:57<00:00,  7.16it/s]\n"
     ]
    },
    {
     "name": "stdout",
     "output_type": "stream",
     "text": [
      "Epoch:9, train/val loss:(0.0614674, 0.0685837),train/val f1:(0.897436, 0.8950249), lr:5e-05\n",
      "Saving best model to checkpoint\n"
     ]
    },
    {
     "name": "stderr",
     "output_type": "stream",
     "text": [
      "100%|██████████| 844/844 [01:57<00:00,  7.19it/s]\n"
     ]
    },
    {
     "name": "stdout",
     "output_type": "stream",
     "text": [
      "Epoch:10, train/val loss:(0.0580261, 0.0705773),train/val f1:(0.9030508, 0.8868493), lr:5e-05\n",
      "Saving checkpoint to disk\n"
     ]
    },
    {
     "name": "stderr",
     "output_type": "stream",
     "text": [
      "100%|██████████| 844/844 [01:48<00:00,  7.80it/s]\n",
      "  0%|          | 0/844 [00:00<?, ?it/s]"
     ]
    },
    {
     "name": "stdout",
     "output_type": "stream",
     "text": [
      "Epoch:11, train/val loss:(0.0546853, 0.0722361),train/val f1:(0.9095877, 0.8888394), lr:5e-05\n",
      "Recovering best model from checkpoint\n"
     ]
    },
    {
     "name": "stderr",
     "output_type": "stream",
     "text": [
      "100%|██████████| 844/844 [01:47<00:00,  7.86it/s]\n",
      "  0%|          | 0/844 [00:00<?, ?it/s]"
     ]
    },
    {
     "name": "stdout",
     "output_type": "stream",
     "text": [
      "Epoch:12, train/val loss:(0.0565339, 0.0688215),train/val f1:(0.9055809, 0.8914899), lr:2.5e-05\n"
     ]
    },
    {
     "name": "stderr",
     "output_type": "stream",
     "text": [
      " 86%|████████▌ | 725/844 [01:34<00:18,  6.45it/s]Process Process-644:\n",
      "Process Process-647:\n",
      "Process Process-636:\n",
      "Process Process-627:\n",
      "Process Process-645:\n",
      "Process Process-626:\n",
      "Process Process-643:\n",
      "Process Process-633:\n",
      "Process Process-641:\n",
      "Process Process-646:\n",
      "Process Process-639:\n",
      "Process Process-628:\n",
      "Traceback (most recent call last):\n",
      "Process Process-642:\n",
      "Traceback (most recent call last):\n",
      "Process Process-629:\n",
      "Process Process-631:\n",
      "  File \"/home/ztan/miniconda3/lib/python3.8/multiprocessing/process.py\", line 318, in _bootstrap\n",
      "    util._exit_function()\n",
      "Process Process-638:\n",
      "Traceback (most recent call last):\n",
      "Traceback (most recent call last):\n",
      "  File \"/home/ztan/miniconda3/lib/python3.8/multiprocessing/util.py\", line 360, in _exit_function\n",
      "    _run_finalizers()\n",
      "Traceback (most recent call last):\n",
      "Process Process-630:\n",
      "Process Process-634:\n",
      "Traceback (most recent call last):\n",
      "Traceback (most recent call last):\n",
      "  File \"/home/ztan/miniconda3/lib/python3.8/multiprocessing/process.py\", line 318, in _bootstrap\n",
      "    util._exit_function()\n",
      "Traceback (most recent call last):\n",
      "Traceback (most recent call last):\n",
      "  File \"/home/ztan/miniconda3/lib/python3.8/multiprocessing/process.py\", line 318, in _bootstrap\n",
      "    util._exit_function()\n",
      "Process Process-632:\n",
      "Process Process-635:\n",
      "  File \"/home/ztan/miniconda3/lib/python3.8/multiprocessing/util.py\", line 300, in _run_finalizers\n",
      "    finalizer()\n",
      "  File \"/home/ztan/miniconda3/lib/python3.8/multiprocessing/process.py\", line 318, in _bootstrap\n",
      "    util._exit_function()\n",
      "Process Process-648:\n",
      "  File \"/home/ztan/miniconda3/lib/python3.8/multiprocessing/process.py\", line 318, in _bootstrap\n",
      "    util._exit_function()\n",
      "Process Process-640:\n",
      "Traceback (most recent call last):\n",
      "Process Process-625:\n",
      "  File \"/home/ztan/miniconda3/lib/python3.8/multiprocessing/process.py\", line 318, in _bootstrap\n",
      "    util._exit_function()\n",
      "  File \"/home/ztan/miniconda3/lib/python3.8/multiprocessing/process.py\", line 318, in _bootstrap\n",
      "    util._exit_function()\n",
      "Traceback (most recent call last):\n",
      "  File \"/home/ztan/miniconda3/lib/python3.8/multiprocessing/util.py\", line 360, in _exit_function\n",
      "    _run_finalizers()\n",
      "  File \"/home/ztan/miniconda3/lib/python3.8/multiprocessing/util.py\", line 360, in _exit_function\n",
      "    _run_finalizers()\n",
      "Traceback (most recent call last):\n",
      "Traceback (most recent call last):\n",
      "Traceback (most recent call last):\n"
     ]
    }
   ],
   "source": [
    "import os\n",
    "from copy import deepcopy\n",
    "\n",
    "from sklearn.metrics import f1_score\n",
    "from tqdm import tqdm\n",
    "\n",
    "val_mean_f1 = []\n",
    "val_sample_f1 = []\n",
    "model_in_memory = {}\n",
    "scaler = torch.cuda.amp.GradScaler()\n",
    "\n",
    "\n",
    "def train_epoch(model, train_data_loader, use_fp16=False):\n",
    "    train_loss = []\n",
    "    train_outs = []\n",
    "    train_labels = []\n",
    "    model.train()\n",
    "    for batch in tqdm(train_data_loader):\n",
    "        optimizer.zero_grad()\n",
    "        captions = batch[\"caption\"]\n",
    "        images = batch[\"image\"].to(device)\n",
    "        labels = batch[\"label\"].to(device)\n",
    "        inputs = tokenizer(captions, return_tensors=\"pt\", padding=True, truncation=False).to(device)\n",
    "\n",
    "        with torch.cuda.amp.autocast(enabled=use_fp16):\n",
    "            predictions = model(images, inputs)\n",
    "            loss = criterion(predictions, labels)\n",
    "\n",
    "        scaler.scale(loss).backward()\n",
    "        scaler.step(optimizer)\n",
    "        scaler.update()\n",
    "        train_loss.append(loss.item())\n",
    "\n",
    "        train_outs.append(predictions.detach().cpu().numpy())\n",
    "        train_labels.append(labels.detach().cpu().numpy())\n",
    "    train_labels = np.vstack(train_labels)\n",
    "    train_outs = np.vstack(train_outs)\n",
    "    mean_f1 = f1_score(y_true=train_labels, y_pred=1 * (train_outs > 0), average=\"micro\")\n",
    "    sample_f1 = f1_score(y_true=train_labels, y_pred=1 * (train_outs > 0), average=\"samples\")\n",
    "    return train_loss, train_outs, train_labels, mean_f1, sample_f1\n",
    "\n",
    "\n",
    "def evaluate_model(model, eval_data_loader):\n",
    "    val_loss = []\n",
    "    val_outs = []\n",
    "    val_labels = []\n",
    "    model.eval()\n",
    "    for batch in val_dl:\n",
    "        captions = batch[\"caption\"]\n",
    "        images = batch[\"image\"].to(DEVICE)\n",
    "        labels = batch[\"label\"].to(DEVICE)\n",
    "        inputs = tokenizer(captions, return_tensors=\"pt\", padding=True, truncation=False).to(device)\n",
    "        predictions = model(images, inputs)\n",
    "        loss = criterion(predictions, labels)\n",
    "\n",
    "        val_loss.append(loss.item())\n",
    "        val_outs.append(predictions.detach().cpu().numpy())\n",
    "        val_labels.append(labels.detach().cpu().numpy())\n",
    "    val_labels = np.vstack(val_labels)\n",
    "    val_outs = np.vstack(val_outs)\n",
    "    mean_f1 = f1_score(y_true=val_labels, y_pred=1 * (val_outs > 0), average=\"micro\")\n",
    "    sample_f1 = f1_score(y_true=val_labels, y_pred=1 * (val_outs > 0), average=\"samples\")\n",
    "    return val_loss, val_outs, val_labels, mean_f1, sample_f1\n",
    "\n",
    "\n",
    "for epoch in range(50):\n",
    "    train_loss = []\n",
    "    train_outs = []\n",
    "    train_lables = []\n",
    "    model.train()\n",
    "\n",
    "    # it is very important to keep backbone fixed first.\n",
    "    # Without fixing the model does not achieve the same performance\n",
    "    # however, for purpose of ablation study, feel free do change these\n",
    "    if epoch == 5:\n",
    "        finetune_param = False\n",
    "        for name, param in model.visual_features.named_parameters():\n",
    "            if \"fnode\" in name:\n",
    "                param.requires_grad_(True)\n",
    "\n",
    "    if epoch == 7:\n",
    "        finetune_param = False\n",
    "        for name, param in model.lang_model.named_parameters():\n",
    "            if \"3\" in name:\n",
    "                finetune_param = True\n",
    "            if finetune_param:\n",
    "                param.requires_grad_(True)\n",
    "\n",
    "    train_loss, _, _, train_mean_f1, train_sample_f1 = train_epoch(model, train_dl, use_fp16=True)\n",
    "    val_loss, val_outs, val_labels, mean_f1, sample_f1 = evaluate_model(model, val_dl)\n",
    "    \n",
    "    ###################3\n",
    "    ###################### all of below are just helper functions \n",
    "    #####################\n",
    "    cur_lr = deepcopy(optimizer.param_groups[0][\"lr\"])\n",
    "    print(\n",
    "        f\"Epoch:{epoch}, train/val loss:{round(np.mean(train_loss),7),round(np.mean(val_loss),7)},train/val f1:{round(train_sample_f1, 7), round(sample_f1, 7)}, lr:{cur_lr}\"\n",
    "    )\n",
    "    scheduler.step(np.mean(val_loss))\n",
    "    # save best model to checkpoint\n",
    "    if len(val_sample_f1) == 0 or sample_f1 > max(val_sample_f1):\n",
    "        print(\"Saving best model to checkpoint\")\n",
    "        try:\n",
    "            del model_in_memory[\"best\"]\n",
    "        except:\n",
    "            pass\n",
    "        torch.cuda.empty_cache()\n",
    "        model.to(\"cpu\")\n",
    "        model_in_memory[\"best\"] = deepcopy(model.state_dict())\n",
    "        model_in_memory[\"best_f1\"] = sample_f1\n",
    "        model.to(device)\n",
    "    if epoch % 10 == 0:\n",
    "        print(\"Saving checkpoint to disk\")\n",
    "        torch.save(model_in_memory[\"best\"], \"test_v10.pt\")\n",
    "\n",
    "    val_mean_f1.append(mean_f1)\n",
    "    val_sample_f1.append(sample_f1)\n",
    "\n",
    "    # recover model if plateou\n",
    "    if optimizer.param_groups[0][\"lr\"] < cur_lr and sample_f1 < model_in_memory[\"best_f1\"]:\n",
    "        print(\"Recovering best model from checkpoint\")\n",
    "        model.load_state_dict(deepcopy(model_in_memory[\"best\"]))\n",
    "        model.to(device)\n",
    "\n",
    "    # \"manual early stopping\"\n",
    "    if cur_lr < 3e-6:\n",
    "        model.load_state_dict(deepcopy(model_in_memory[\"best\"]))\n",
    "        torch.save(model, \"test_v10.pt\")\n",
    "        break"
   ]
  },
  {
   "cell_type": "markdown",
   "metadata": {},
   "source": [
    "###################"
   ]
  },
  {
   "cell_type": "code",
   "execution_count": null,
   "metadata": {},
   "outputs": [],
   "source": [
    "raise ValueError\n",
    "# belows are the hyper params\n",
    "\n",
    "# d2 (2; fnodes 5) + bert mini (4; 3 attention) + 1*SAGA (1 wrd_dim) + adam=5e-5 batch=16 fp16 = 89.12271\n",
    "# (current best) d2 (2; fnodes all) + bert mini (4; 3 attention) + 1*SAGA (4 wrd_dim) + adam=5e-5 batch=16 fp16 = 89.54141\n",
    "# d2 (3; fnodes all) + bert mini (5; 3 attention) + 2*SAGA (wrd_dim) + adam=5e-5 batch=16 fp16 = 89.45"
   ]
  },
  {
   "cell_type": "markdown",
   "metadata": {},
   "source": [
    "# correction"
   ]
  },
  {
   "cell_type": "code",
   "execution_count": null,
   "metadata": {
    "tags": []
   },
   "outputs": [],
   "source": [
    "model = Combined_Model(features, lang_model, n_saga=1)\n",
    "model.load_state_dict(torch.load(\"test_v10.pt\"))\n",
    "model.to(device)\n",
    "# model = torch.load(model_name)"
   ]
  },
  {
   "cell_type": "code",
   "execution_count": null,
   "metadata": {
    "tags": []
   },
   "outputs": [],
   "source": [
    "class CheatDataset(torch.utils.data.Dataset):\n",
    "    def __init__(self, transform=None):\n",
    "        self.transform = transform\n",
    "        self.tags = set()\n",
    "        self.df_data = pd.read_csv(\"test_cheat.csv\", names=range(3), skiprows=1)[[0, 2, 1]].dropna()\n",
    "        self.df_data[0] = IMG_PATH + \"/\" + self.df_data[0]\n",
    "        self.df_data = self.df_data.rename({0: \"image\", 2: \"label\", 1: \"caption\"}, axis=1)\n",
    "\n",
    "    def __len__(self):\n",
    "        return len(self.df_data)\n",
    "\n",
    "    def __getitem__(self, idx):\n",
    "        if torch.is_tensor(idx):\n",
    "            idx = idx.tolist()\n",
    "\n",
    "        image = PIL.Image.open(self.df_data.iloc[idx, 0])\n",
    "        label = self.df_data.iloc[idx, 1]\n",
    "        caption = self.df_data.iloc[idx, 2]\n",
    "\n",
    "        sample = {\"caption\": caption, \"label\": label, \"image\": image}\n",
    "\n",
    "        if self.transform:\n",
    "            sample = self.transform(sample)\n",
    "\n",
    "        return sample\n",
    "\n",
    "\n",
    "cheat_data = CheatDataset(transform=transforms)\n",
    "one_hot_encode_labels(cheat_data)\n",
    "\n",
    "from torch.utils.data import DataLoader, random_split\n",
    "\n",
    "cheat_dl = DataLoader(\n",
    "    cheat_data, batch_size=8, shuffle=False, collate_fn=train_collate_fn, num_workers=24\n",
    ")\n",
    "\n",
    "from sklearn.metrics import precision_recall_curve\n",
    "\n",
    "# use the same validation set/training set\n",
    "# evaluate threshould on train/val/cheat\n",
    "val_loss, val_outs, val_labels, mean_f1, sample_f1 = evaluate_model(model, val_dl)\n",
    "\n",
    "best_thresholds = np.zeros(18)\n",
    "for i in range(18):\n",
    "    fpr, tpr, thresholds = precision, recall, thresholds = precision_recall_curve(\n",
    "        val_labels[:, i], (val_outs)[:, i]\n",
    "    )\n",
    "    fscore = (2 * precision * recall) / (precision + recall)\n",
    "    # locate the index of the largest f score\n",
    "    ix = np.argmax(fscore)\n",
    "    best_thresholds[i] = thresholds[ix]\n",
    "\n",
    "print(best_thresholds)\n",
    "np.save(\"best_thresholds\", best_thresholds)\n",
    "\n",
    "cheat_loss, cheat_outs, cheat_labels, _, old_f1 = evaluate_model(model, cheat_dl)\n",
    "new_f1 = f1_score(\n",
    "    y_true=cheat_labels, y_pred=1 * (cheat_outs - best_thresholds) > 0, average=\"samples\"\n",
    ")\n",
    "print(f\"old_f1: {old_f1}; new_f1:{new_f1}\")"
   ]
  },
  {
   "cell_type": "markdown",
   "metadata": {},
   "source": [
    "# generate test labels"
   ]
  },
  {
   "cell_type": "code",
   "execution_count": null,
   "metadata": {},
   "outputs": [],
   "source": [
    "# stopper for run all\n",
    "raise ValueError"
   ]
  },
  {
   "cell_type": "code",
   "execution_count": null,
   "metadata": {
    "tags": []
   },
   "outputs": [],
   "source": [
    "def test_collate_fn(X):\n",
    "    X = {k: [v[k] for v in X] for k in X[0]}\n",
    "    X[\"image\"] = torch.stack(X[\"image\"])\n",
    "\n",
    "    return X\n",
    "\n",
    "\n",
    "test_data = TestDataset(transform=transforms)\n",
    "test_dl = torch.utils.data.DataLoader(\n",
    "    test_data, batch_size=8, shuffle=False, collate_fn=test_collate_fn, num_workers=0,\n",
    ")\n",
    "\n",
    "\n",
    "# save predictions\n",
    "model.eval()\n",
    "test_preds = []\n",
    "for i, batch in enumerate(test_dl):\n",
    "    images = batch[\"image\"].to(device)\n",
    "    captions = batch[\"caption\"]\n",
    "    inputs = tokenizer(captions, return_tensors=\"pt\", padding=True, truncation=False).to(device)\n",
    "\n",
    "    predictions = model(images, inputs)\n",
    "    test_preds.append(predictions.detach().cpu().numpy())\n",
    "\n",
    "test_preds = np.vstack(test_preds)\n",
    "\n",
    "\n",
    "def out_logits_to_preds(logits, best_thresholds, correction=False):\n",
    "    labels = []\n",
    "    # ... correction doesnt work..??\n",
    "    if correction:\n",
    "        logits = logits - best_thresholds\n",
    "    logits = logits > 0\n",
    "    lables_available = np.array([1, 2, 3, 4, 5, 6, 7, 8, 9, 10, 11, 13, 14, 15, 16, 17, 18, 19])\n",
    "    for i in range(logits.shape[0]):\n",
    "        labels.append(list(lables_available[logits[i]]))\n",
    "    return labels\n",
    "\n",
    "\n",
    "# lables_available[(test_preds[:10] > 0)]\n",
    "# {1, 2, 3, 4, 5, 6, 7, 8, 9, 10, 11, 13, 14, 15, 16, 17, 18, 19}\n",
    "\n",
    "test_labels = out_logits_to_preds(test_preds, best_thresholds, correction=False)\n",
    "\n",
    "df_test = pd.read_csv(TEST_CSV_PATH, names=range(3), skiprows=1)\n",
    "test_labels_str = [\" \".join([str(i) for i in labels]) for labels in test_labels]\n",
    "df_test[\"Labels\"] = test_labels_str\n",
    "df_test.rename({0: \"ImageID\"}, axis=1, inplace=True)\n",
    "df_test[[\"ImageID\", \"Labels\"]].to_csv(\"test_predictions.csv\", index=False)"
   ]
  }
 ],
 "metadata": {
  "accelerator": "GPU",
  "colab": {
   "collapsed_sections": [],
   "name": "COMP5329_Assignment_2_v3.ipynb",
   "provenance": [],
   "toc_visible": true
  },
  "kernelspec": {
   "display_name": "Python 3",
   "language": "python",
   "name": "python3"
  },
  "language_info": {
   "codemirror_mode": {
    "name": "ipython",
    "version": 3
   },
   "file_extension": ".py",
   "mimetype": "text/x-python",
   "name": "python",
   "nbconvert_exporter": "python",
   "pygments_lexer": "ipython3",
   "version": "3.8.8"
  },
  "toc-autonumbering": true,
  "widgets": {
   "application/vnd.jupyter.widget-state+json": {
    "105bdd467ce44751b3020eddd3d4c791": {
     "model_module": "@jupyter-widgets/base",
     "model_name": "LayoutModel",
     "state": {
      "_model_module": "@jupyter-widgets/base",
      "_model_module_version": "1.2.0",
      "_model_name": "LayoutModel",
      "_view_count": null,
      "_view_module": "@jupyter-widgets/base",
      "_view_module_version": "1.2.0",
      "_view_name": "LayoutView",
      "align_content": null,
      "align_items": null,
      "align_self": null,
      "border": null,
      "bottom": null,
      "display": null,
      "flex": null,
      "flex_flow": null,
      "grid_area": null,
      "grid_auto_columns": null,
      "grid_auto_flow": null,
      "grid_auto_rows": null,
      "grid_column": null,
      "grid_gap": null,
      "grid_row": null,
      "grid_template_areas": null,
      "grid_template_columns": null,
      "grid_template_rows": null,
      "height": null,
      "justify_content": null,
      "justify_items": null,
      "left": null,
      "margin": null,
      "max_height": null,
      "max_width": null,
      "min_height": null,
      "min_width": null,
      "object_fit": null,
      "object_position": null,
      "order": null,
      "overflow": null,
      "overflow_x": null,
      "overflow_y": null,
      "padding": null,
      "right": null,
      "top": null,
      "visibility": null,
      "width": null
     }
    },
    "37766d0f97754f21a9b78ec7c2c9b266": {
     "model_module": "@jupyter-widgets/base",
     "model_name": "LayoutModel",
     "state": {
      "_model_module": "@jupyter-widgets/base",
      "_model_module_version": "1.2.0",
      "_model_name": "LayoutModel",
      "_view_count": null,
      "_view_module": "@jupyter-widgets/base",
      "_view_module_version": "1.2.0",
      "_view_name": "LayoutView",
      "align_content": null,
      "align_items": null,
      "align_self": null,
      "border": null,
      "bottom": null,
      "display": null,
      "flex": null,
      "flex_flow": null,
      "grid_area": null,
      "grid_auto_columns": null,
      "grid_auto_flow": null,
      "grid_auto_rows": null,
      "grid_column": null,
      "grid_gap": null,
      "grid_row": null,
      "grid_template_areas": null,
      "grid_template_columns": null,
      "grid_template_rows": null,
      "height": null,
      "justify_content": null,
      "justify_items": null,
      "left": null,
      "margin": null,
      "max_height": null,
      "max_width": null,
      "min_height": null,
      "min_width": null,
      "object_fit": null,
      "object_position": null,
      "order": null,
      "overflow": null,
      "overflow_x": null,
      "overflow_y": null,
      "padding": null,
      "right": null,
      "top": null,
      "visibility": null,
      "width": null
     }
    },
    "3b5faf89e145490b8df3c5a0974a30e0": {
     "model_module": "@jupyter-widgets/controls",
     "model_name": "FloatProgressModel",
     "state": {
      "_dom_classes": [],
      "_model_module": "@jupyter-widgets/controls",
      "_model_module_version": "1.5.0",
      "_model_name": "FloatProgressModel",
      "_view_count": null,
      "_view_module": "@jupyter-widgets/controls",
      "_view_module_version": "1.5.0",
      "_view_name": "ProgressView",
      "bar_style": "success",
      "description": "100%",
      "description_tooltip": null,
      "layout": "IPY_MODEL_37766d0f97754f21a9b78ec7c2c9b266",
      "max": 21388428,
      "min": 0,
      "orientation": "horizontal",
      "style": "IPY_MODEL_a0e1d4db2eb74c24887d9b9d63e36a2a",
      "value": 21388428
     }
    },
    "6c592ed619724f1997199bf45b9727e7": {
     "model_module": "@jupyter-widgets/base",
     "model_name": "LayoutModel",
     "state": {
      "_model_module": "@jupyter-widgets/base",
      "_model_module_version": "1.2.0",
      "_model_name": "LayoutModel",
      "_view_count": null,
      "_view_module": "@jupyter-widgets/base",
      "_view_module_version": "1.2.0",
      "_view_name": "LayoutView",
      "align_content": null,
      "align_items": null,
      "align_self": null,
      "border": null,
      "bottom": null,
      "display": null,
      "flex": null,
      "flex_flow": null,
      "grid_area": null,
      "grid_auto_columns": null,
      "grid_auto_flow": null,
      "grid_auto_rows": null,
      "grid_column": null,
      "grid_gap": null,
      "grid_row": null,
      "grid_template_areas": null,
      "grid_template_columns": null,
      "grid_template_rows": null,
      "height": null,
      "justify_content": null,
      "justify_items": null,
      "left": null,
      "margin": null,
      "max_height": null,
      "max_width": null,
      "min_height": null,
      "min_width": null,
      "object_fit": null,
      "object_position": null,
      "order": null,
      "overflow": null,
      "overflow_x": null,
      "overflow_y": null,
      "padding": null,
      "right": null,
      "top": null,
      "visibility": null,
      "width": null
     }
    },
    "775c2d8bc3824da89165a6baf24327c8": {
     "model_module": "@jupyter-widgets/controls",
     "model_name": "HBoxModel",
     "state": {
      "_dom_classes": [],
      "_model_module": "@jupyter-widgets/controls",
      "_model_module_version": "1.5.0",
      "_model_name": "HBoxModel",
      "_view_count": null,
      "_view_module": "@jupyter-widgets/controls",
      "_view_module_version": "1.5.0",
      "_view_name": "HBoxView",
      "box_style": "",
      "children": [
       "IPY_MODEL_3b5faf89e145490b8df3c5a0974a30e0",
       "IPY_MODEL_fbc0ba310f384411ad658bc8ceee5607"
      ],
      "layout": "IPY_MODEL_6c592ed619724f1997199bf45b9727e7"
     }
    },
    "9929ab1374f74db7addc12be1eaa6a29": {
     "model_module": "@jupyter-widgets/controls",
     "model_name": "DescriptionStyleModel",
     "state": {
      "_model_module": "@jupyter-widgets/controls",
      "_model_module_version": "1.5.0",
      "_model_name": "DescriptionStyleModel",
      "_view_count": null,
      "_view_module": "@jupyter-widgets/base",
      "_view_module_version": "1.2.0",
      "_view_name": "StyleView",
      "description_width": ""
     }
    },
    "a0e1d4db2eb74c24887d9b9d63e36a2a": {
     "model_module": "@jupyter-widgets/controls",
     "model_name": "ProgressStyleModel",
     "state": {
      "_model_module": "@jupyter-widgets/controls",
      "_model_module_version": "1.5.0",
      "_model_name": "ProgressStyleModel",
      "_view_count": null,
      "_view_module": "@jupyter-widgets/base",
      "_view_module_version": "1.2.0",
      "_view_name": "StyleView",
      "bar_color": null,
      "description_width": "initial"
     }
    },
    "fbc0ba310f384411ad658bc8ceee5607": {
     "model_module": "@jupyter-widgets/controls",
     "model_name": "HTMLModel",
     "state": {
      "_dom_classes": [],
      "_model_module": "@jupyter-widgets/controls",
      "_model_module_version": "1.5.0",
      "_model_name": "HTMLModel",
      "_view_count": null,
      "_view_module": "@jupyter-widgets/controls",
      "_view_module_version": "1.5.0",
      "_view_name": "HTMLView",
      "description": "",
      "description_tooltip": null,
      "layout": "IPY_MODEL_105bdd467ce44751b3020eddd3d4c791",
      "placeholder": "​",
      "style": "IPY_MODEL_9929ab1374f74db7addc12be1eaa6a29",
      "value": " 20.4M/20.4M [00:00&lt;00:00, 70.0MB/s]"
     }
    }
   }
  }
 },
 "nbformat": 4,
 "nbformat_minor": 4
}
