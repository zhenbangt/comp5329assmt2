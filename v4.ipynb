{
 "cells": [
  {
   "cell_type": "markdown",
   "metadata": {
    "id": "NYTGkadIZh4_"
   },
   "source": [
    "# COMP5329 - Assignment 2"
   ]
  },
  {
   "cell_type": "code",
   "execution_count": 1,
   "metadata": {
    "colab": {
     "base_uri": "https://localhost:8080/"
    },
    "executionInfo": {
     "elapsed": 734,
     "status": "ok",
     "timestamp": 1621175101439,
     "user": {
      "displayName": "Isomorphism__",
      "photoUrl": "https://lh3.googleusercontent.com/a-/AOh14GjCPGQv-x0fGHL4DUlrvt2EuQaICcM6lEXnzGpA=s64",
      "userId": "06837884690357263397"
     },
     "user_tz": -600
    },
    "id": "_HHNTgKRLXK2",
    "outputId": "3c6183f6-fc17-4847-f133-296f04a53d47"
   },
   "outputs": [],
   "source": [
    "# import google\n",
    "import collections\n",
    "import json\n",
    "import re\n",
    "\n",
    "import nltk\n",
    "import numpy as np\n",
    "import pandas\n",
    "import pandas as pd\n",
    "\n",
    "# import torchtext\n",
    "import PIL.Image\n",
    "import torch\n",
    "import torch.nn as nn\n",
    "import torchvision\n",
    "\n",
    "DEVICE = torch.device(\"cuda:0\" if torch.cuda.is_available() else \"cpu\")\n",
    "device = torch.device(\"cuda:0\" if torch.cuda.is_available() else \"cpu\")\n",
    "# MOUNT_PATH = '/content/drive'\n",
    "# DRIVE_PATH = f'{MOUNT_PATH}/My Drive'\n",
    "# PROJECT_PATH = DRIVE_PATH + \"/Assignment 2\"\n",
    "PROJECT_PATH = \"./\"\n",
    "IMG_PATH = f\"{PROJECT_PATH}/data\"\n",
    "TRAIN_CSV_PATH = f\"{PROJECT_PATH}/train.csv\"\n",
    "TEST_CSV_PATH = f\"{PROJECT_PATH}/test.csv\"\n",
    "\n",
    "# google.colab.drive.mount(MOUNT_PATH)\n",
    "torch.cuda.empty_cache()"
   ]
  },
  {
   "cell_type": "markdown",
   "metadata": {
    "id": "7c78c3tjbE6d"
   },
   "source": [
    "## Dataset\n"
   ]
  },
  {
   "cell_type": "markdown",
   "metadata": {
    "id": "USEhrYiYHLSx"
   },
   "source": [
    "### Train dataset"
   ]
  },
  {
   "cell_type": "code",
   "execution_count": 2,
   "metadata": {
    "id": "0HX1aBeBjdSP"
   },
   "outputs": [],
   "source": [
    "# df = pandas.read_csv(TRAIN_CSV_PATH, names=range(4), skiprows=1)\n",
    "# classes = df[1].apply(lambda x: list(map(int, x.strip().split()))).to_list()\n",
    "# n_classes = set()\n",
    "# for i in classes:\n",
    "#     n_classes.update(i)\n",
    "# n_clsses"
   ]
  },
  {
   "cell_type": "code",
   "execution_count": 40,
   "metadata": {
    "executionInfo": {
     "elapsed": 990,
     "status": "ok",
     "timestamp": 1621175027575,
     "user": {
      "displayName": "Isomorphism__",
      "photoUrl": "https://lh3.googleusercontent.com/a-/AOh14GjCPGQv-x0fGHL4DUlrvt2EuQaICcM6lEXnzGpA=s64",
      "userId": "06837884690357263397"
     },
     "user_tz": -600
    },
    "id": "lutFP6pmayNN"
   },
   "outputs": [],
   "source": [
    "class TrainDataset(torch.utils.data.Dataset):\n",
    "    def __init__(self, transform=None):\n",
    "        self.transform = transform\n",
    "        self.tags = set()\n",
    "        self.df_data = pandas.read_csv(TRAIN_CSV_PATH, names=range(4), skiprows=1)\n",
    "        self.df_data[0] = IMG_PATH + \"/\" + self.df_data[0]\n",
    "        self.df_data[3] = self.df_data[3].fillna(\"\")\n",
    "        self.df_data[2] += self.df_data[3]\n",
    "        self.df_data = self.df_data.drop(3, axis=1)\n",
    "        self.df_data = self.df_data.rename({0: \"image\", 1: \"label\", 2: \"caption\"}, axis=1).dropna()\n",
    "\n",
    "    def __len__(self):\n",
    "        return len(self.df_data)\n",
    "\n",
    "    def __getitem__(self, idx):\n",
    "        if torch.is_tensor(idx):\n",
    "            idx = idx.tolist()\n",
    "\n",
    "        image = PIL.Image.open(self.df_data.iloc[idx, 0])\n",
    "        label = self.df_data.iloc[idx, 1]\n",
    "        caption = self.df_data.iloc[idx, 2]\n",
    "\n",
    "        sample = {\"caption\": caption, \"label\": label, \"image\": image}\n",
    "\n",
    "        if self.transform:\n",
    "            sample = self.transform(sample)\n",
    "\n",
    "        return sample"
   ]
  },
  {
   "cell_type": "markdown",
   "metadata": {
    "id": "JPE_x_qeGden"
   },
   "source": [
    "### Test dataset"
   ]
  },
  {
   "cell_type": "code",
   "execution_count": 4,
   "metadata": {
    "executionInfo": {
     "elapsed": 514,
     "status": "ok",
     "timestamp": 1621175027576,
     "user": {
      "displayName": "Isomorphism__",
      "photoUrl": "https://lh3.googleusercontent.com/a-/AOh14GjCPGQv-x0fGHL4DUlrvt2EuQaICcM6lEXnzGpA=s64",
      "userId": "06837884690357263397"
     },
     "user_tz": -600
    },
    "id": "oMHDsQa5pbvJ"
   },
   "outputs": [],
   "source": [
    "class TestDataset(torch.utils.data.Dataset):\n",
    "    def __init__(self, transform=None):\n",
    "        self.transform = transform\n",
    "        self.tags = set()\n",
    "        self.df_data = pandas.read_csv(TEST_CSV_PATH, names=range(3), skiprows=1)\n",
    "        self.df_data[0] = IMG_PATH + \"/\" + self.df_data[0]\n",
    "        self.df_data[2] = self.df_data[2].fillna(\"\")\n",
    "        self.df_data[1] += self.df_data[2]\n",
    "        self.df_data = self.df_data.drop(2, axis=1)\n",
    "        self.df_data = self.df_data.rename({0: \"image\", 1: \"caption\"}, axis=1)\n",
    "\n",
    "    def __len__(self):\n",
    "        return len(self.df_data)\n",
    "\n",
    "    def __getitem__(self, idx):\n",
    "        if torch.is_tensor(idx):\n",
    "            idx = idx.tolist()\n",
    "\n",
    "        image = PIL.Image.open(self.df_data.iloc[idx, 0])\n",
    "        caption = self.df_data.iloc[idx, 1]\n",
    "\n",
    "        sample = {\"caption\": caption, \"image\": image}\n",
    "\n",
    "        if self.transform:\n",
    "            sample = self.transform(sample)\n",
    "\n",
    "        return sample"
   ]
  },
  {
   "cell_type": "markdown",
   "metadata": {
    "id": "_R5B99nfXD3g"
   },
   "source": [
    "## Preprocessing"
   ]
  },
  {
   "cell_type": "markdown",
   "metadata": {
    "id": "VMMUaz1_HJH9"
   },
   "source": [
    "### Vocab"
   ]
  },
  {
   "cell_type": "code",
   "execution_count": 5,
   "metadata": {
    "id": "kb-JBmuJwzCI",
    "tags": []
   },
   "outputs": [],
   "source": [
    "# nltk.download(\"stopwords\")\n",
    "# stopwords = set(nltk.corpus.stopwords.words(\"english\"))\n",
    "# basic_tokenizer = torchtext.data.utils.get_tokenizer(\"basic_english\")\n",
    "# glove = torchtext.vocab.GloVe(name=\"6B\", dim=100)\n",
    "\n",
    "# with open(f\"{PROJECT_PATH}/correct_spelling.json\", \"r\") as f:\n",
    "#     correct_spelling = json.load(f)\n",
    "\n",
    "\n",
    "# def caption_tokenizer(caption):\n",
    "#     caption = re.sub(\"[^a-zA-Z]\", \" \", caption).lower()\n",
    "#     raw_tokens = basic_tokenizer(caption)\n",
    "#     raw_tokens = list(set(raw_tokens).difference(stopwords))\n",
    "#     tokens = []\n",
    "\n",
    "#     for token in raw_tokens:\n",
    "\n",
    "#         if token in correct_spelling:\n",
    "#             corrected_spelling = correct_spelling[token]\n",
    "\n",
    "#             for corrected_token in corrected_spelling.split():\n",
    "#                 if corrected_token in glove.stoi:\n",
    "#                     tokens.append(corrected_token)\n",
    "#         else:\n",
    "#             if token in glove.stoi:\n",
    "#                 tokens.append(token)\n",
    "\n",
    "#     return tokens"
   ]
  },
  {
   "cell_type": "code",
   "execution_count": 6,
   "metadata": {
    "id": "7tNqu0vo1Qv5"
   },
   "outputs": [],
   "source": [
    "# train_data = TrainDataset()\n",
    "# test_data = TestDataset()\n",
    "# counter = collections.Counter()\n",
    "\n",
    "# for caption in train_data.df_data[\"caption\"]:\n",
    "#     counter.update(caption_tokenizer(caption))\n",
    "\n",
    "# for caption in test_data.df_data[\"caption\"]:\n",
    "#     counter.update(caption_tokenizer(caption))\n",
    "\n",
    "# vocab = torchtext.vocab.Vocab(counter, vectors=\"glove.6B.100d\", specials=(\"<unk>\", \"<BOS>\", \"<EOS>\", \"<PAD>\"))\n",
    "\n",
    "# del train_data\n",
    "# del test_data"
   ]
  },
  {
   "cell_type": "markdown",
   "metadata": {
    "id": "v3scsujfGr18"
   },
   "source": [
    "### Dataset pre-transformations "
   ]
  },
  {
   "cell_type": "code",
   "execution_count": 7,
   "metadata": {
    "executionInfo": {
     "elapsed": 781,
     "status": "ok",
     "timestamp": 1621175030901,
     "user": {
      "displayName": "Isomorphism__",
      "photoUrl": "https://lh3.googleusercontent.com/a-/AOh14GjCPGQv-x0fGHL4DUlrvt2EuQaICcM6lEXnzGpA=s64",
      "userId": "06837884690357263397"
     },
     "user_tz": -600
    },
    "id": "zbL0EmlyeNTm"
   },
   "outputs": [],
   "source": [
    "# def vocabularise_caption(dataset, vocab):\n",
    "\n",
    "#     if \"vocabularised_caption\" not in dataset.tags:\n",
    "#         # turns string caption to list of vocab indices\n",
    "#         dataset.df_data[\"caption\"] = dataset.df_data[\"caption\"].apply(\n",
    "#             lambda c: torch.tensor([vocab.stoi[t] for t in caption_tokenizer(c)])\n",
    "#         )\n",
    "\n",
    "#         dataset.tags.add(\"vocabularised_caption\")\n",
    "\n",
    "\n",
    "def one_hot_encode_labels(dataset):\n",
    "    if \"one_hot_encoded_labels\" not in dataset.tags:\n",
    "        dataset.df_data[\"label\"] = dataset.df_data[\"label\"].apply(\n",
    "            lambda l: torch.nn.functional.one_hot(\n",
    "                torch.tensor([int(i) - 1 if int(i) < 12 else int(i) - 2 for i in l.split(\" \")]), 18\n",
    "            )\n",
    "            .sum(axis=0)\n",
    "            .float()\n",
    "        )\n",
    "\n",
    "        dataset.tags.add(\"one_hot_encoded_labels\")"
   ]
  },
  {
   "cell_type": "markdown",
   "metadata": {
    "id": "bpTCDn6_Vrco"
   },
   "source": [
    "## Modules\n"
   ]
  },
  {
   "cell_type": "markdown",
   "metadata": {
    "id": "GCCA7khCHOnG"
   },
   "source": [
    "### Caption embedding"
   ]
  },
  {
   "cell_type": "code",
   "execution_count": 8,
   "metadata": {
    "id": "Ecrmj0tdk78V",
    "tags": []
   },
   "outputs": [
    {
     "name": "stderr",
     "output_type": "stream",
     "text": [
      "/home/ztan/miniconda3/lib/python3.8/site-packages/torchaudio/backend/utils.py:53: UserWarning: \"sox\" backend is being deprecated. The default backend will be changed to \"sox_io\" backend in 0.8.0 and \"sox\" backend will be removed in 0.9.0. Please migrate to \"sox_io\" backend. Please refer to https://github.com/pytorch/audio/issues/903 for the detail.\n",
      "  warnings.warn(\n",
      "Some weights of the model checkpoint at prajjwal1/bert-mini were not used when initializing BertModel: ['cls.predictions.decoder.weight', 'cls.predictions.transform.LayerNorm.bias', 'cls.predictions.decoder.bias', 'cls.seq_relationship.bias', 'cls.seq_relationship.weight', 'cls.predictions.transform.dense.weight', 'cls.predictions.bias', 'cls.predictions.transform.LayerNorm.weight', 'cls.predictions.transform.dense.bias']\n",
      "- This IS expected if you are initializing BertModel from the checkpoint of a model trained on another task or with another architecture (e.g. initializing a BertForSequenceClassification model from a BertForPreTraining model).\n",
      "- This IS NOT expected if you are initializing BertModel from the checkpoint of a model that you expect to be exactly identical (initializing a BertForSequenceClassification model from a BertForSequenceClassification model).\n"
     ]
    }
   ],
   "source": [
    "# class CaptionEmbedding(torch.nn.Module):\n",
    "#     def __init__(self, vocab):\n",
    "#         super(CaptionEmbedding, self).__init__()\n",
    "#         self.word_embedding = torch.nn.Embedding.from_pretrained(vocab.vectors)\n",
    "#         self.linear1 = torch.nn.Linear(vocab.vectors.shape[1], 18)\n",
    "#         self.lrelu1 = torch.nn.LeakyReLU()\n",
    "#         self.linear2 = torch.nn.Linear(18, 1)\n",
    "#         self.lrelu2 = torch.nn.LeakyReLU()\n",
    "#         self.lrelu3 = torch.nn.LeakyReLU()\n",
    "\n",
    "#     def forward(self, captions):\n",
    "#         def _embed_caption(c):\n",
    "#             c = c.to(DEVICE)\n",
    "#             c = self.word_embedding(c)\n",
    "#             word_importance = self.linear1(c)\n",
    "#             word_importance = self.lrelu1(word_importance)\n",
    "#             word_importance = self.linear2(word_importance)\n",
    "#             word_importance = self.lrelu2(word_importance)\n",
    "#             return self.lrelu3(c.T @ word_importance).view(-1)\n",
    "\n",
    "#         return torch.stack([*map(lambda c: _embed_caption(c), captions)])\n",
    "\n",
    "from transformers import AutoFeatureExtractor, AutoModel, AutoTokenizer\n",
    "\n",
    "tokenizer = AutoTokenizer.from_pretrained(\"prajjwal1/bert-mini\")\n",
    "lang_model = AutoModel.from_pretrained(\"prajjwal1/bert-mini\")\n",
    "\n",
    "# finetune_param = False\n",
    "# for name, param in lang_model.named_parameters():\n",
    "#     name = name.split(\".\")\n",
    "# #     if \"3\" in name and \"intermediate\" in name:\n",
    "# #         finetune_param = True\n",
    "#     param.requires_grad = finetune_param\n",
    "# #     print(name, param.requires_grad)\n",
    "\n",
    "for name, param in lang_model.named_parameters():\n",
    "    param.requires_grad = False"
   ]
  },
  {
   "cell_type": "markdown",
   "metadata": {
    "id": "vial1naJBNC7"
   },
   "source": [
    "### Pretrained model surgery"
   ]
  },
  {
   "cell_type": "code",
   "execution_count": 9,
   "metadata": {
    "id": "6hUrTmdVBj0Q",
    "tags": []
   },
   "outputs": [
    {
     "name": "stdout",
     "output_type": "stream",
     "text": [
      "Loaded pretrained weights for efficientnet-b1\n"
     ]
    }
   ],
   "source": [
    "# class Surgery(torch.nn.Module):\n",
    "#     def __init__(self, name, selection, training_disabled=True):\n",
    "#         super(Surgery, self).__init__()\n",
    "#         model = getattr(torchvision.models, name)(pretrained=True)\n",
    "#         children = list(model.children())\n",
    "\n",
    "#         self.sequential = torch.nn.Sequential(*[children[i] for i in selection])\n",
    "\n",
    "#         if training_disabled:\n",
    "#             for param in self.sequential.parameters():\n",
    "#                 param.requires_grad = False\n",
    "\n",
    "#     def forward(self, x):\n",
    "\n",
    "#         return self.sequential(x)\n",
    "\n",
    "\n",
    "# def surgery_info(name):\n",
    "#     model = getattr(torchvision.models, name)()\n",
    "\n",
    "#     for idx, child in enumerate(model.children()):\n",
    "#         print(f\"Accessible at {idx}:\\n{child}\\n\")\n",
    "\n",
    "# !pip install efficientnet_pytorch\n",
    "from efficientnet_pytorch import EfficientNet\n",
    "\n",
    "# {1, 2, 3, 4, 5, 6, 7, 8, 9, 10, 11, 13, 14, 15, 16, 17, 18, 19}\n",
    "features = EfficientNet.from_pretrained(\"efficientnet-b1\")\n",
    "\n",
    "# finetune_param = False\n",
    "# for name, param in features.named_parameters():\n",
    "#     #     print(name.split(\".\")[1])\n",
    "#     if \"18\" in name.split(\".\"):  # required grad for last 2 blocks\n",
    "#         finetune_param = True\n",
    "#     param.requires_grad = finetune_param\n",
    "#     print(name, param.requires_grad)\n",
    "\n",
    "for name, param in features.named_parameters():\n",
    "    param.requires_grad = False"
   ]
  },
  {
   "cell_type": "markdown",
   "metadata": {
    "id": "v44fbNqCOtv9"
   },
   "source": [
    "### Combined model"
   ]
  },
  {
   "cell_type": "code",
   "execution_count": 62,
   "metadata": {
    "id": "aUtVf9QdOxnN"
   },
   "outputs": [],
   "source": [
    "NUM_ClASSES = 18\n",
    "import math\n",
    "\n",
    "import torch.nn as nn\n",
    "\n",
    "\n",
    "class Combined_Model(torch.nn.Module):\n",
    "    def __init__(self, visual_features, lang_model):\n",
    "        super().__init__()\n",
    "        self.visual_features = visual_features\n",
    "        self.lang_model = lang_model\n",
    "        self.proj = nn.Linear(1000, 256)  # (feature.shape, hidden.shape)\n",
    "        self.scale = math.sqrt(256)\n",
    "        self.activation = nn.ReLU()\n",
    "        self.combine = nn.Linear(\n",
    "            256 + 1000 + 256, 256\n",
    "        )  # (feature.shape + hidden.shape + hidden.shape)\n",
    "        #         self.hidden1 = nn.Linear(256, 128)\n",
    "        self.output = nn.Linear(256, NUM_ClASSES)\n",
    "\n",
    "    def forward(self, images, input_ids, attention_mask):  # requires tokenized captions\n",
    "        images = self.visual_features(images)\n",
    "        proj = self.proj(images)\n",
    "\n",
    "        lang_outs = self.lang_model(input_ids=input_ids, attention_mask=attention_mask)\n",
    "        hidden = lang_outs[\"last_hidden_state\"]\n",
    "        pooler_out = lang_outs[\"pooler_output\"]\n",
    "\n",
    "        attention_weights = (\n",
    "            torch.bmm(hidden, proj.unsqueeze(-1)).squeeze(-1) / self.scale\n",
    "        )  # (batch, seq_len, 1)\n",
    "        attention_out = torch.bmm(attention_weights.unsqueeze(1), hidden).squeeze(1)\n",
    "\n",
    "        out = torch.cat([images, attention_out, pooler_out], dim=-1)\n",
    "        out = self.activation(out)\n",
    "        out = self.combine(out)\n",
    "        #         out = self.activation(out)\n",
    "        #         out = self.hidden1(out)\n",
    "        out = self.activation(out)\n",
    "        out = self.output(out)\n",
    "        return out"
   ]
  },
  {
   "cell_type": "code",
   "execution_count": 11,
   "metadata": {
    "id": "aUtVf9QdOxnN"
   },
   "outputs": [],
   "source": [
    "# class Combined(torch.nn.Module):\n",
    "#     def __init__(self):\n",
    "#         super(Combined, self).__init__()\n",
    "#         # self.image_embedder = Surgery('vgg16', [0])\n",
    "#         self.image_embedder = features\n",
    "#         # self.caption_embedder = CaptionEmbedding(vocab)\n",
    "\n",
    "#         # self.linear1 = torch.nn.Linear(2148, 256)\n",
    "#         self.linear1 = torch.nn.Linear(1000, 256)\n",
    "#         self.lrelu1 = torch.nn.LeakyReLU()\n",
    "#         # self.linear2 = torch.nn.Linear(256, 18)\n",
    "#         # self.lrelu2 = torch.nn.LeakyReLU()\n",
    "\n",
    "#         self.heads = nn.ModuleList([nn.Linear(256, 1) for i in range(NUM_ClASSES)])\n",
    "\n",
    "#     def forward(self, images, captions):\n",
    "#         image_embeddings = self.image_embedder(images)\n",
    "#         # image_embeddings = image_embeddings.view(images.shape[0], -1) #???\n",
    "\n",
    "#         # caption_embeddings = self.caption_embedder(captions)\n",
    "#         # caption_embeddings = caption_embeddings.view(caption_embeddings.shape[0], -1)\n",
    "\n",
    "#         # combined_embedding = torch.cat([image_embeddings, caption_embeddings], 1)\n",
    "#         # y = self.linear1(combined_embedding)\n",
    "\n",
    "#         y = self.linear1(image_embeddings)\n",
    "#         y = self.lrelu1(y)\n",
    "\n",
    "#         outs = []\n",
    "#         for i in range(NUM_ClASSES):\n",
    "#             outs.append(self.heads[i](y))\n",
    "\n",
    "#         return torch.cat(outs, dim=-1)"
   ]
  },
  {
   "cell_type": "markdown",
   "metadata": {
    "id": "srZFInwa78_j"
   },
   "source": [
    "## Transforms and training support"
   ]
  },
  {
   "cell_type": "code",
   "execution_count": 12,
   "metadata": {
    "executionInfo": {
     "elapsed": 772,
     "status": "ok",
     "timestamp": 1621175053522,
     "user": {
      "displayName": "Isomorphism__",
      "photoUrl": "https://lh3.googleusercontent.com/a-/AOh14GjCPGQv-x0fGHL4DUlrvt2EuQaICcM6lEXnzGpA=s64",
      "userId": "06837884690357263397"
     },
     "user_tz": -600
    },
    "id": "MvOT-Plt78Zp"
   },
   "outputs": [],
   "source": [
    "class FieldTransform(object):\n",
    "    def __init__(self, field, transform):\n",
    "        self.field = field\n",
    "        self.transform = transform\n",
    "\n",
    "    def __call__(self, sample):\n",
    "        sample[self.field] = self.transform(sample[self.field])\n",
    "        return sample"
   ]
  },
  {
   "cell_type": "markdown",
   "metadata": {
    "id": "tZHM_qQiQniU"
   },
   "source": [
    "## Experiments"
   ]
  },
  {
   "cell_type": "code",
   "execution_count": 13,
   "metadata": {
    "executionInfo": {
     "elapsed": 771,
     "status": "ok",
     "timestamp": 1621175053523,
     "user": {
      "displayName": "Isomorphism__",
      "photoUrl": "https://lh3.googleusercontent.com/a-/AOh14GjCPGQv-x0fGHL4DUlrvt2EuQaICcM6lEXnzGpA=s64",
      "userId": "06837884690357263397"
     },
     "user_tz": -600
    },
    "id": "oPqavf7wWfiB"
   },
   "outputs": [],
   "source": [
    "def train_collate_fn(X):\n",
    "    # convert [{key: val, ...}, ...]\n",
    "    # to [key: [val, ...],  ...}\n",
    "    X = {k: [v[k] for v in X] for k in X[0]}\n",
    "    X[\"label\"] = torch.stack(X[\"label\"])\n",
    "    X[\"image\"] = torch.stack(X[\"image\"])\n",
    "\n",
    "    return X\n",
    "\n",
    "\n",
    "normalize = torchvision.transforms.Normalize(mean=[0.485, 0.456, 0.406], std=[0.229, 0.224, 0.225])\n",
    "\n",
    "transforms = torchvision.transforms.Compose(\n",
    "    [\n",
    "        #   FieldTransform('image', torchvision.transforms.Resize((64, 64))),\n",
    "        #   FieldTransform('image', torchvision.transforms.CenterCrop(64)),\n",
    "        FieldTransform(\"image\", torchvision.transforms.Resize((224, 224))),\n",
    "        FieldTransform(\"image\", torchvision.transforms.ToTensor()),\n",
    "        FieldTransform(\"image\", normalize),\n",
    "    ]\n",
    ")"
   ]
  },
  {
   "cell_type": "code",
   "execution_count": 14,
   "metadata": {
    "executionInfo": {
     "elapsed": 2421,
     "status": "ok",
     "timestamp": 1621175110701,
     "user": {
      "displayName": "Isomorphism__",
      "photoUrl": "https://lh3.googleusercontent.com/a-/AOh14GjCPGQv-x0fGHL4DUlrvt2EuQaICcM6lEXnzGpA=s64",
      "userId": "06837884690357263397"
     },
     "user_tz": -600
    },
    "id": "o_5acvhCWjSn"
   },
   "outputs": [],
   "source": [
    "train_data = TrainDataset(transform=transforms)\n",
    "# vocabularise_caption(train_data, vocab)\n",
    "one_hot_encode_labels(train_data)\n",
    "\n",
    "from torch.utils.data import DataLoader, random_split\n",
    "\n",
    "# train_data.__len__() == 30000\n",
    "trainds, valds = random_split(train_data, [27000, 3000])\n",
    "\n",
    "train_dl = DataLoader(\n",
    "    trainds, batch_size=64, shuffle=True, collate_fn=train_collate_fn, num_workers=24\n",
    ")\n",
    "\n",
    "val_dl = DataLoader(valds, batch_size=8, shuffle=False, collate_fn=train_collate_fn, num_workers=24)\n",
    "\n",
    "# model = Combined().to(DEVICE)\n",
    "model = Combined_Model(features, lang_model).to(device)\n",
    "# optim = torch.optim.Adam(model.parameters(), lr=0.001)\n",
    "\n",
    "from sam import SAM\n",
    "\n",
    "base_optimizer = torch.optim.Adam  # define an optimizer for the \"sharpness-aware\" update\n",
    "optimizer = SAM(model.parameters(), base_optimizer, lr=0.0001)\n",
    "criterion = torch.nn.BCEWithLogitsLoss()"
   ]
  },
  {
   "cell_type": "code",
   "execution_count": 15,
   "metadata": {
    "colab": {
     "base_uri": "https://localhost:8080/"
    },
    "id": "iuhLuCQxQnR1",
    "outputId": "bde8bc1d-7820-460e-8d89-e78e8af216d4",
    "tags": []
   },
   "outputs": [
    {
     "name": "stderr",
     "output_type": "stream",
     "text": [
      "100%|██████████| 422/422 [00:47<00:00,  8.93it/s]\n",
      "  0%|          | 0/422 [00:00<?, ?it/s]"
     ]
    },
    {
     "name": "stdout",
     "output_type": "stream",
     "text": [
      "Epoch: 0,        Train Loss: 0.208066868979784,        Val Loss: 0.13693628182013828,        mean F1: 0.6815599173553718,        sample f1: 0.7009669312169312\n"
     ]
    },
    {
     "name": "stderr",
     "output_type": "stream",
     "text": [
      "100%|██████████| 422/422 [00:47<00:00,  8.81it/s]\n",
      "  0%|          | 0/422 [00:00<?, ?it/s]"
     ]
    },
    {
     "name": "stdout",
     "output_type": "stream",
     "text": [
      "Epoch: 1,        Train Loss: 0.14013433444062115,        Val Loss: 0.11347906984388828,        mean F1: 0.7425630726747835,        sample f1: 0.7666126984126983\n"
     ]
    },
    {
     "name": "stderr",
     "output_type": "stream",
     "text": [
      "100%|██████████| 422/422 [00:47<00:00,  8.92it/s]\n",
      "  0%|          | 0/422 [00:00<?, ?it/s]"
     ]
    },
    {
     "name": "stdout",
     "output_type": "stream",
     "text": [
      "Epoch: 2,        Train Loss: 0.12455619350781938,        Val Loss: 0.10600241481761137,        mean F1: 0.7699115044247787,        sample f1: 0.7980783068783069\n"
     ]
    },
    {
     "name": "stderr",
     "output_type": "stream",
     "text": [
      "100%|██████████| 422/422 [00:47<00:00,  8.96it/s]\n",
      "  0%|          | 0/422 [00:00<?, ?it/s]"
     ]
    },
    {
     "name": "stdout",
     "output_type": "stream",
     "text": [
      "Epoch: 3,        Train Loss: 0.11598462952186146,        Val Loss: 0.1000751814643542,        mean F1: 0.7832099963605483,        sample f1: 0.8123544973544974\n"
     ]
    },
    {
     "name": "stderr",
     "output_type": "stream",
     "text": [
      "100%|██████████| 422/422 [00:47<00:00,  8.90it/s]\n",
      "  0%|          | 0/422 [00:00<?, ?it/s]"
     ]
    },
    {
     "name": "stdout",
     "output_type": "stream",
     "text": [
      "Epoch: 4,        Train Loss: 0.11090400412466854,        Val Loss: 0.09803482109804948,        mean F1: 0.789071038251366,        sample f1: 0.8198560846560846\n"
     ]
    },
    {
     "name": "stderr",
     "output_type": "stream",
     "text": [
      "100%|██████████| 422/422 [03:03<00:00,  2.30it/s]\n",
      "  0%|          | 0/422 [00:00<?, ?it/s]"
     ]
    },
    {
     "name": "stdout",
     "output_type": "stream",
     "text": [
      "Epoch: 5,        Train Loss: 0.09875211108175781,        Val Loss: 0.0764458608329296,        mean F1: 0.8398525740102247,        sample f1: 0.8703994708994709\n"
     ]
    },
    {
     "name": "stderr",
     "output_type": "stream",
     "text": [
      "100%|██████████| 422/422 [03:04<00:00,  2.28it/s]\n",
      "  0%|          | 0/422 [00:00<?, ?it/s]"
     ]
    },
    {
     "name": "stdout",
     "output_type": "stream",
     "text": [
      "Epoch: 6,        Train Loss: 0.0795636076515461,        Val Loss: 0.07162661390999953,        mean F1: 0.8497913769123783,        sample f1: 0.8802830687830687\n"
     ]
    },
    {
     "name": "stderr",
     "output_type": "stream",
     "text": [
      "100%|██████████| 422/422 [03:01<00:00,  2.33it/s]\n",
      "  0%|          | 0/422 [00:00<?, ?it/s]"
     ]
    },
    {
     "name": "stdout",
     "output_type": "stream",
     "text": [
      "Epoch: 7,        Train Loss: 0.0695685323469023,        Val Loss: 0.06902662125602364,        mean F1: 0.8553719008264463,        sample f1: 0.8838297258297259\n"
     ]
    },
    {
     "name": "stderr",
     "output_type": "stream",
     "text": [
      "100%|██████████| 422/422 [03:03<00:00,  2.30it/s]\n",
      "  0%|          | 0/422 [00:00<?, ?it/s]"
     ]
    },
    {
     "name": "stdout",
     "output_type": "stream",
     "text": [
      "Epoch: 8,        Train Loss: 0.06133171704143144,        Val Loss: 0.06869658972322941,        mean F1: 0.8546405823475888,        sample f1: 0.8858329244829244\n"
     ]
    },
    {
     "name": "stderr",
     "output_type": "stream",
     "text": [
      "100%|██████████| 422/422 [03:04<00:00,  2.29it/s]\n",
      "  0%|          | 0/422 [00:00<?, ?it/s]"
     ]
    },
    {
     "name": "stdout",
     "output_type": "stream",
     "text": [
      "Epoch: 9,        Train Loss: 0.05309134949952082,        Val Loss: 0.06989924866209428,        mean F1: 0.8570769940064545,        sample f1: 0.8862780423280422\n"
     ]
    },
    {
     "name": "stderr",
     "output_type": "stream",
     "text": [
      "100%|██████████| 422/422 [03:00<00:00,  2.33it/s]\n",
      "  0%|          | 0/422 [00:00<?, ?it/s]"
     ]
    },
    {
     "name": "stdout",
     "output_type": "stream",
     "text": [
      "Epoch: 10,        Train Loss: 0.046150900772221,        Val Loss: 0.07376181374366085,        mean F1: 0.8543136808559071,        sample f1: 0.8848497113997114\n"
     ]
    },
    {
     "name": "stderr",
     "output_type": "stream",
     "text": [
      "100%|██████████| 422/422 [02:58<00:00,  2.36it/s]\n",
      "  0%|          | 0/422 [00:00<?, ?it/s]"
     ]
    },
    {
     "name": "stdout",
     "output_type": "stream",
     "text": [
      "Epoch: 11,        Train Loss: 0.03931865352978356,        Val Loss: 0.07659793976213163,        mean F1: 0.8550592525068368,        sample f1: 0.8846097606097607\n"
     ]
    },
    {
     "name": "stderr",
     "output_type": "stream",
     "text": [
      "100%|██████████| 422/422 [02:58<00:00,  2.36it/s]\n",
      "  0%|          | 0/422 [00:00<?, ?it/s]"
     ]
    },
    {
     "name": "stdout",
     "output_type": "stream",
     "text": [
      "Epoch: 12,        Train Loss: 0.033871847915494045,        Val Loss: 0.08282555364755292,        mean F1: 0.8525377229080933,        sample f1: 0.8813276094276095\n"
     ]
    },
    {
     "name": "stderr",
     "output_type": "stream",
     "text": [
      "100%|██████████| 422/422 [02:58<00:00,  2.36it/s]\n",
      "  0%|          | 0/422 [00:00<?, ?it/s]"
     ]
    },
    {
     "name": "stdout",
     "output_type": "stream",
     "text": [
      "Epoch: 13,        Train Loss: 0.02821898455312255,        Val Loss: 0.08443483709994083,        mean F1: 0.8537549407114624,        sample f1: 0.8845851574351574\n"
     ]
    },
    {
     "name": "stderr",
     "output_type": "stream",
     "text": [
      "100%|██████████| 422/422 [02:58<00:00,  2.37it/s]\n",
      "  0%|          | 0/422 [00:00<?, ?it/s]"
     ]
    },
    {
     "name": "stdout",
     "output_type": "stream",
     "text": [
      "Epoch: 14,        Train Loss: 0.024347411837181632,        Val Loss: 0.09353847861689671,        mean F1: 0.8511685116851168,        sample f1: 0.8848436026936027\n"
     ]
    },
    {
     "name": "stderr",
     "output_type": "stream",
     "text": [
      "100%|██████████| 422/422 [02:58<00:00,  2.36it/s]\n",
      "  0%|          | 0/422 [00:00<?, ?it/s]"
     ]
    },
    {
     "name": "stdout",
     "output_type": "stream",
     "text": [
      "Epoch: 15,        Train Loss: 0.020852846459825457,        Val Loss: 0.09780148371860074,        mean F1: 0.8545662100456621,        sample f1: 0.8855406167906168\n"
     ]
    },
    {
     "name": "stderr",
     "output_type": "stream",
     "text": [
      "100%|██████████| 422/422 [02:58<00:00,  2.37it/s]\n",
      "  0%|          | 0/422 [00:00<?, ?it/s]"
     ]
    },
    {
     "name": "stdout",
     "output_type": "stream",
     "text": [
      "Epoch: 16,        Train Loss: 0.018106578997120048,        Val Loss: 0.09714174044605654,        mean F1: 0.8518477416490956,        sample f1: 0.8859256336256337\n"
     ]
    },
    {
     "name": "stderr",
     "output_type": "stream",
     "text": [
      "100%|██████████| 422/422 [02:58<00:00,  2.36it/s]\n",
      "  0%|          | 0/422 [00:00<?, ?it/s]"
     ]
    },
    {
     "name": "stdout",
     "output_type": "stream",
     "text": [
      "Epoch: 17,        Train Loss: 0.016244722482796882,        Val Loss: 0.10305687864821327,        mean F1: 0.8536363636363637,        sample f1: 0.8869350408850408\n"
     ]
    },
    {
     "name": "stderr",
     "output_type": "stream",
     "text": [
      "100%|██████████| 422/422 [02:58<00:00,  2.36it/s]\n",
      "  0%|          | 0/422 [00:00<?, ?it/s]"
     ]
    },
    {
     "name": "stdout",
     "output_type": "stream",
     "text": [
      "Epoch: 18,        Train Loss: 0.014395089658921787,        Val Loss: 0.10400898464947629,        mean F1: 0.8492569002123141,        sample f1: 0.8832000925000923\n"
     ]
    },
    {
     "name": "stderr",
     "output_type": "stream",
     "text": [
      "100%|██████████| 422/422 [02:58<00:00,  2.36it/s]\n",
      "  0%|          | 0/422 [00:00<?, ?it/s]"
     ]
    },
    {
     "name": "stdout",
     "output_type": "stream",
     "text": [
      "Epoch: 19,        Train Loss: 0.012552122042020032,        Val Loss: 0.11324860001399065,        mean F1: 0.8544793087767166,        sample f1: 0.8856938912938913\n"
     ]
    },
    {
     "name": "stderr",
     "output_type": "stream",
     "text": [
      "100%|██████████| 422/422 [02:58<00:00,  2.36it/s]\n",
      "  0%|          | 0/422 [00:00<?, ?it/s]"
     ]
    },
    {
     "name": "stdout",
     "output_type": "stream",
     "text": [
      "Epoch: 20,        Train Loss: 0.011769563554989183,        Val Loss: 0.10857847632229095,        mean F1: 0.8513060951105157,        sample f1: 0.8835663743663745\n"
     ]
    },
    {
     "name": "stderr",
     "output_type": "stream",
     "text": [
      "100%|██████████| 422/422 [02:58<00:00,  2.37it/s]\n",
      "  0%|          | 0/422 [00:00<?, ?it/s]"
     ]
    },
    {
     "name": "stdout",
     "output_type": "stream",
     "text": [
      "Epoch: 21,        Train Loss: 0.010742571288212181,        Val Loss: 0.115262445439992,        mean F1: 0.851668169522092,        sample f1: 0.8827563011063012\n"
     ]
    },
    {
     "name": "stderr",
     "output_type": "stream",
     "text": [
      "100%|██████████| 422/422 [02:58<00:00,  2.36it/s]\n",
      "  0%|          | 0/422 [00:00<?, ?it/s]"
     ]
    },
    {
     "name": "stdout",
     "output_type": "stream",
     "text": [
      "Epoch: 22,        Train Loss: 0.010129249480363176,        Val Loss: 0.11786150469338463,        mean F1: 0.8537293434569004,        sample f1: 0.8859047138047138\n"
     ]
    },
    {
     "name": "stderr",
     "output_type": "stream",
     "text": [
      "100%|██████████| 422/422 [02:58<00:00,  2.36it/s]\n",
      "  0%|          | 0/422 [00:00<?, ?it/s]"
     ]
    },
    {
     "name": "stdout",
     "output_type": "stream",
     "text": [
      "Epoch: 23,        Train Loss: 0.00912939682542192,        Val Loss: 0.11432883078563949,        mean F1: 0.8510922871154702,        sample f1: 0.8839361952861953\n"
     ]
    },
    {
     "name": "stderr",
     "output_type": "stream",
     "text": [
      "100%|██████████| 422/422 [02:58<00:00,  2.36it/s]\n",
      "  0%|          | 0/422 [00:00<?, ?it/s]"
     ]
    },
    {
     "name": "stdout",
     "output_type": "stream",
     "text": [
      "Epoch: 24,        Train Loss: 0.008653247500527032,        Val Loss: 0.12004747541760905,        mean F1: 0.8538262143581652,        sample f1: 0.8865474266474266\n"
     ]
    },
    {
     "name": "stderr",
     "output_type": "stream",
     "text": [
      "100%|██████████| 422/422 [02:58<00:00,  2.37it/s]\n",
      "  0%|          | 0/422 [00:00<?, ?it/s]"
     ]
    },
    {
     "name": "stdout",
     "output_type": "stream",
     "text": [
      "Epoch: 25,        Train Loss: 0.008420005936994355,        Val Loss: 0.11778038554329032,        mean F1: 0.8522916435467762,        sample f1: 0.8858737614237615\n"
     ]
    },
    {
     "name": "stderr",
     "output_type": "stream",
     "text": [
      "100%|██████████| 422/422 [02:58<00:00,  2.37it/s]\n",
      "  0%|          | 0/422 [00:00<?, ?it/s]"
     ]
    },
    {
     "name": "stdout",
     "output_type": "stream",
     "text": [
      "Epoch: 26,        Train Loss: 0.007603160353373047,        Val Loss: 0.12098112036228607,        mean F1: 0.8492935635792779,        sample f1: 0.8841716450216451\n"
     ]
    },
    {
     "name": "stderr",
     "output_type": "stream",
     "text": [
      "100%|██████████| 422/422 [02:58<00:00,  2.37it/s]\n",
      "  0%|          | 0/422 [00:00<?, ?it/s]"
     ]
    },
    {
     "name": "stdout",
     "output_type": "stream",
     "text": [
      "Epoch: 27,        Train Loss: 0.007588202326880742,        Val Loss: 0.12167487688102605,        mean F1: 0.8493333333333334,        sample f1: 0.8834442039442041\n"
     ]
    },
    {
     "name": "stderr",
     "output_type": "stream",
     "text": [
      "100%|██████████| 422/422 [02:58<00:00,  2.36it/s]\n",
      "  0%|          | 0/422 [00:00<?, ?it/s]"
     ]
    },
    {
     "name": "stdout",
     "output_type": "stream",
     "text": [
      "Epoch: 28,        Train Loss: 0.007292353887976063,        Val Loss: 0.12339213759357032,        mean F1: 0.8523852385238523,        sample f1: 0.8850786435786435\n"
     ]
    },
    {
     "name": "stderr",
     "output_type": "stream",
     "text": [
      "100%|██████████| 422/422 [02:58<00:00,  2.37it/s]\n",
      "  0%|          | 0/422 [00:00<?, ?it/s]"
     ]
    },
    {
     "name": "stdout",
     "output_type": "stream",
     "text": [
      "Epoch: 29,        Train Loss: 0.006524582916508778,        Val Loss: 0.1292802200485797,        mean F1: 0.8515120625212369,        sample f1: 0.8859007455507455\n"
     ]
    },
    {
     "name": "stderr",
     "output_type": "stream",
     "text": [
      "100%|██████████| 422/422 [02:58<00:00,  2.37it/s]\n",
      "  0%|          | 0/422 [00:00<?, ?it/s]"
     ]
    },
    {
     "name": "stdout",
     "output_type": "stream",
     "text": [
      "Epoch: 30,        Train Loss: 0.0064782441177977015,        Val Loss: 0.12253978618146115,        mean F1: 0.845879732739421,        sample f1: 0.8773129352129352\n"
     ]
    },
    {
     "name": "stderr",
     "output_type": "stream",
     "text": [
      "100%|██████████| 422/422 [02:58<00:00,  2.37it/s]\n",
      "  0%|          | 0/422 [00:00<?, ?it/s]"
     ]
    },
    {
     "name": "stdout",
     "output_type": "stream",
     "text": [
      "Epoch: 31,        Train Loss: 0.0067807745169991655,        Val Loss: 0.12201031206940145,        mean F1: 0.8524224157177941,        sample f1: 0.8842722703222702\n"
     ]
    },
    {
     "name": "stderr",
     "output_type": "stream",
     "text": [
      "100%|██████████| 422/422 [02:58<00:00,  2.37it/s]\n",
      "  0%|          | 0/422 [00:00<?, ?it/s]"
     ]
    },
    {
     "name": "stdout",
     "output_type": "stream",
     "text": [
      "Epoch: 32,        Train Loss: 0.005921339002792101,        Val Loss: 0.12941880113813872,        mean F1: 0.8544453186467349,        sample f1: 0.8852580567580567\n"
     ]
    },
    {
     "name": "stderr",
     "output_type": "stream",
     "text": [
      "100%|██████████| 422/422 [02:57<00:00,  2.37it/s]\n",
      "  0%|          | 0/422 [00:00<?, ?it/s]"
     ]
    },
    {
     "name": "stdout",
     "output_type": "stream",
     "text": [
      "Epoch: 33,        Train Loss: 0.0057750428565810944,        Val Loss: 0.12765440345613266,        mean F1: 0.8508493150684932,        sample f1: 0.8840835497835497\n"
     ]
    },
    {
     "name": "stderr",
     "output_type": "stream",
     "text": [
      "100%|██████████| 422/422 [02:58<00:00,  2.37it/s]\n",
      "  0%|          | 0/422 [00:00<?, ?it/s]"
     ]
    },
    {
     "name": "stdout",
     "output_type": "stream",
     "text": [
      "Epoch: 34,        Train Loss: 0.005732063330258618,        Val Loss: 0.13079633170833888,        mean F1: 0.8542349881262015,        sample f1: 0.8855009139009139\n"
     ]
    },
    {
     "name": "stderr",
     "output_type": "stream",
     "text": [
      "100%|██████████| 422/422 [02:58<00:00,  2.37it/s]\n",
      "  0%|          | 0/422 [00:00<?, ?it/s]"
     ]
    },
    {
     "name": "stdout",
     "output_type": "stream",
     "text": [
      "Epoch: 35,        Train Loss: 0.0057298026226407965,        Val Loss: 0.12481284990192701,        mean F1: 0.853120496619,        sample f1: 0.8878601935101936\n"
     ]
    },
    {
     "name": "stderr",
     "output_type": "stream",
     "text": [
      "100%|██████████| 422/422 [02:58<00:00,  2.37it/s]\n",
      "  0%|          | 0/422 [00:00<?, ?it/s]"
     ]
    },
    {
     "name": "stdout",
     "output_type": "stream",
     "text": [
      "Epoch: 36,        Train Loss: 0.005504662756255267,        Val Loss: 0.12607732084608142,        mean F1: 0.8544653946031388,        sample f1: 0.8860928571428571\n"
     ]
    },
    {
     "name": "stderr",
     "output_type": "stream",
     "text": [
      "100%|██████████| 422/422 [02:57<00:00,  2.37it/s]\n",
      "  0%|          | 0/422 [00:00<?, ?it/s]"
     ]
    },
    {
     "name": "stdout",
     "output_type": "stream",
     "text": [
      "Epoch: 37,        Train Loss: 0.00522585206853239,        Val Loss: 0.1354060484928911,        mean F1: 0.8569776852815355,        sample f1: 0.8876109668109669\n"
     ]
    },
    {
     "name": "stderr",
     "output_type": "stream",
     "text": [
      "100%|██████████| 422/422 [02:57<00:00,  2.38it/s]\n",
      "  0%|          | 0/422 [00:00<?, ?it/s]"
     ]
    },
    {
     "name": "stdout",
     "output_type": "stream",
     "text": [
      "Epoch: 38,        Train Loss: 0.004711358940534479,        Val Loss: 0.12977208564675918,        mean F1: 0.8521699819168173,        sample f1: 0.8846970621970622\n"
     ]
    },
    {
     "name": "stderr",
     "output_type": "stream",
     "text": [
      "100%|██████████| 422/422 [02:57<00:00,  2.37it/s]\n",
      "  0%|          | 0/422 [00:00<?, ?it/s]"
     ]
    },
    {
     "name": "stdout",
     "output_type": "stream",
     "text": [
      "Epoch: 39,        Train Loss: 0.005125208202224243,        Val Loss: 0.13157194007855044,        mean F1: 0.8510977135706974,        sample f1: 0.882841242091242\n"
     ]
    },
    {
     "name": "stderr",
     "output_type": "stream",
     "text": [
      "100%|██████████| 422/422 [02:57<00:00,  2.37it/s]\n",
      "  0%|          | 0/422 [00:00<?, ?it/s]"
     ]
    },
    {
     "name": "stdout",
     "output_type": "stream",
     "text": [
      "Epoch: 40,        Train Loss: 0.005007088334289693,        Val Loss: 0.13127572285675462,        mean F1: 0.8503477675566524,        sample f1: 0.8818768398268398\n"
     ]
    },
    {
     "name": "stderr",
     "output_type": "stream",
     "text": [
      "100%|██████████| 422/422 [02:57<00:00,  2.38it/s]\n",
      "  0%|          | 0/422 [00:00<?, ?it/s]"
     ]
    },
    {
     "name": "stdout",
     "output_type": "stream",
     "text": [
      "Epoch: 41,        Train Loss: 0.00455800044689365,        Val Loss: 0.13128740436645844,        mean F1: 0.8556806550665303,        sample f1: 0.8864630110630112\n"
     ]
    },
    {
     "name": "stderr",
     "output_type": "stream",
     "text": [
      "100%|██████████| 422/422 [02:57<00:00,  2.37it/s]\n",
      "  0%|          | 0/422 [00:00<?, ?it/s]"
     ]
    },
    {
     "name": "stdout",
     "output_type": "stream",
     "text": [
      "Epoch: 42,        Train Loss: 0.004728946136586562,        Val Loss: 0.1377396979503513,        mean F1: 0.8551897003531959,        sample f1: 0.8876155603655603\n"
     ]
    },
    {
     "name": "stderr",
     "output_type": "stream",
     "text": [
      "100%|██████████| 422/422 [02:57<00:00,  2.37it/s]\n",
      "  0%|          | 0/422 [00:00<?, ?it/s]"
     ]
    },
    {
     "name": "stdout",
     "output_type": "stream",
     "text": [
      "Epoch: 43,        Train Loss: 0.004367287920664343,        Val Loss: 0.13273749305445623,        mean F1: 0.851906324244824,        sample f1: 0.8851850649350649\n"
     ]
    },
    {
     "name": "stderr",
     "output_type": "stream",
     "text": [
      "100%|██████████| 422/422 [02:57<00:00,  2.37it/s]\n",
      "  0%|          | 0/422 [00:00<?, ?it/s]"
     ]
    },
    {
     "name": "stdout",
     "output_type": "stream",
     "text": [
      "Epoch: 44,        Train Loss: 0.004267763890785615,        Val Loss: 0.1392966343843315,        mean F1: 0.8559717636342936,        sample f1: 0.8863967772967773\n"
     ]
    },
    {
     "name": "stderr",
     "output_type": "stream",
     "text": [
      "100%|██████████| 422/422 [02:57<00:00,  2.38it/s]\n",
      "  0%|          | 0/422 [00:00<?, ?it/s]"
     ]
    },
    {
     "name": "stdout",
     "output_type": "stream",
     "text": [
      "Epoch: 45,        Train Loss: 0.004014759457734153,        Val Loss: 0.13853983085866398,        mean F1: 0.850875198908843,        sample f1: 0.8845055518555519\n"
     ]
    },
    {
     "name": "stderr",
     "output_type": "stream",
     "text": [
      "100%|██████████| 422/422 [02:57<00:00,  2.37it/s]\n",
      "  0%|          | 0/422 [00:00<?, ?it/s]"
     ]
    },
    {
     "name": "stdout",
     "output_type": "stream",
     "text": [
      "Epoch: 46,        Train Loss: 0.004252333079050383,        Val Loss: 0.13788473133586135,        mean F1: 0.8513197460741732,        sample f1: 0.883149975949976\n"
     ]
    },
    {
     "name": "stderr",
     "output_type": "stream",
     "text": [
      "100%|██████████| 422/422 [02:57<00:00,  2.38it/s]\n",
      "  0%|          | 0/422 [00:00<?, ?it/s]"
     ]
    },
    {
     "name": "stdout",
     "output_type": "stream",
     "text": [
      "Epoch: 47,        Train Loss: 0.004208507126578465,        Val Loss: 0.13573913641844168,        mean F1: 0.8523889825744799,        sample f1: 0.8859576682576682\n"
     ]
    },
    {
     "name": "stderr",
     "output_type": "stream",
     "text": [
      "100%|██████████| 422/422 [02:57<00:00,  2.38it/s]\n",
      "  0%|          | 0/422 [00:00<?, ?it/s]"
     ]
    },
    {
     "name": "stdout",
     "output_type": "stream",
     "text": [
      "Epoch: 48,        Train Loss: 0.004084895279421802,        Val Loss: 0.13456605362949933,        mean F1: 0.8583305246601506,        sample f1: 0.889993771043771\n"
     ]
    },
    {
     "name": "stderr",
     "output_type": "stream",
     "text": [
      "100%|██████████| 422/422 [02:57<00:00,  2.37it/s]\n"
     ]
    },
    {
     "name": "stdout",
     "output_type": "stream",
     "text": [
      "Epoch: 49,        Train Loss: 0.004064095960844471,        Val Loss: 0.14012763746437365,        mean F1: 0.8516202387720294,        sample f1: 0.8830279942279943\n"
     ]
    }
   ],
   "source": [
    "import os\n",
    "\n",
    "from sklearn.metrics import f1_score\n",
    "from tqdm import tqdm\n",
    "\n",
    "# os.environ[\"TOKENIZERS_PARALLELISM\"] = \"true\"\n",
    "\n",
    "\n",
    "val_mean_f1 = []\n",
    "val_sample_f1 = []\n",
    "# scaler = torch.cuda.amp.GradScaler()\n",
    "for epoch in range(20):\n",
    "    train_loss = []\n",
    "    train_outs = []\n",
    "    train_lables = []\n",
    "    model.train()\n",
    "\n",
    "    # fine tune after 5 epoches\n",
    "    if epoch == 5:\n",
    "        finetune_param = False\n",
    "        for name, param in model.visual_features.named_parameters():\n",
    "            #     print(name.split(\".\")[1])\n",
    "            if \"18\" in name.split(\".\"):  # required grad for last 2 blocks\n",
    "                finetune_param = True\n",
    "            param.requires_grad = True\n",
    "\n",
    "        finetune_param = False\n",
    "        for name, param in model.lang_model.named_parameters():\n",
    "            name = name.split(\".\")\n",
    "            if \"3\" in name and \"attention\" in name:\n",
    "                finetune_param = True\n",
    "            param.requires_grad = True\n",
    "\n",
    "    #         for name, param in model.named_parameters():\n",
    "    #             print(name, param.requires_grad)\n",
    "\n",
    "    for i, batch in enumerate(tqdm(train_dl)):\n",
    "        #         optim.zero_grad()\n",
    "        captions = batch[\"caption\"]\n",
    "        images = batch[\"image\"].to(device)\n",
    "        labels = batch[\"label\"].to(device)\n",
    "\n",
    "        inputs = tokenizer(captions, return_tensors=\"pt\", padding=True, truncation=False)\n",
    "        input_ids = inputs[\"input_ids\"].to(device)\n",
    "        attention_mask = inputs[\"attention_mask\"].to(device)\n",
    "\n",
    "        with torch.cuda.amp.autocast():\n",
    "            # first second step\n",
    "            predictions = model(images, input_ids, attention_mask)\n",
    "            loss = criterion(predictions, labels)\n",
    "        loss.backward()\n",
    "        optimizer.first_step(zero_grad=True)\n",
    "\n",
    "        with torch.cuda.amp.autocast():\n",
    "            # second step\n",
    "            predictions = model(images, input_ids, attention_mask)\n",
    "            loss = criterion(predictions, labels)\n",
    "        loss.backward()\n",
    "        optimizer.second_step(zero_grad=True)\n",
    "        #\n",
    "        #         scaler.scale(loss).backward()\n",
    "        #         scaler.step(optim)\n",
    "        #         scaler.update()\n",
    "        #         train_loss.append(scaled_loss.item())\n",
    "        train_loss.append(loss.item())\n",
    "\n",
    "    val_loss = []\n",
    "    val_outs = []\n",
    "    val_labels = []\n",
    "\n",
    "    model.eval()\n",
    "    for i, batch in enumerate(val_dl):\n",
    "\n",
    "        captions = batch[\"caption\"]\n",
    "        images = batch[\"image\"].to(DEVICE)\n",
    "        labels = batch[\"label\"].to(DEVICE)\n",
    "\n",
    "        inputs = tokenizer(captions, return_tensors=\"pt\", padding=True, truncation=False)\n",
    "        input_ids = inputs[\"input_ids\"].to(device)\n",
    "        attention_mask = inputs[\"attention_mask\"].to(device)\n",
    "\n",
    "        #         predictions = model(images, captions)\n",
    "        with torch.cuda.amp.autocast():\n",
    "            predictions = model(images, input_ids, attention_mask)\n",
    "            loss = criterion(predictions, labels)\n",
    "        val_loss.append(loss.item())\n",
    "        val_outs.append(predictions.detach().cpu().numpy())\n",
    "        val_labels.append(labels.detach().cpu().numpy())\n",
    "    val_labels = np.vstack(val_labels)\n",
    "    val_outs = np.vstack(val_outs)\n",
    "    mean_f1 = f1_score(y_true=val_labels, y_pred=1 * (val_outs > 0), average=\"micro\")  # mean f1\n",
    "    sample_f1 = f1_score(y_true=val_labels, y_pred=1 * (val_outs > 0), average=\"samples\")  # mean f1\n",
    "\n",
    "    if len(val_sample_f1) == 0 or sample_f1 > max(val_sample_f1):\n",
    "        model_name = f\"test_model_{str(sample_f1.round(3)*100)}.pt\"\n",
    "        torch.save(model, model_name)\n",
    "    val_mean_f1.append(mean_f1)\n",
    "    val_sample_f1.append(sample_f1)\n",
    "    print(\n",
    "        f\"Epoch: {epoch},\\\n",
    "        Train Loss: {np.mean(train_loss)},\\\n",
    "        Val Loss: {np.mean(val_loss)},\\\n",
    "        mean F1: {mean_f1},\\\n",
    "        sample f1: {sample_f1}\"\n",
    "    )"
   ]
  },
  {
   "cell_type": "markdown",
   "metadata": {},
   "source": [
    "# correction"
   ]
  },
  {
   "cell_type": "code",
   "execution_count": 34,
   "metadata": {},
   "outputs": [],
   "source": [
    "model_name = \"test_models/test_model-89-1.pt\"\n",
    "\n",
    "model = torch.load(model_name)"
   ]
  },
  {
   "cell_type": "code",
   "execution_count": null,
   "metadata": {},
   "outputs": [],
   "source": [
    "# import numpy as np\n",
    "# from sklearn.metrics import roc_curve, precision_recall_curve\n",
    "\n",
    "# model = torch.load(model_name)\n",
    "# # use the same validation set/training set\n",
    "# val_outs = []\n",
    "# val_labels = []\n",
    "# model.eval()\n",
    "# for i, batch in enumerate(val_dl):\n",
    "\n",
    "#     captions = batch[\"caption\"]\n",
    "#     images = batch[\"image\"].to(DEVICE)\n",
    "#     labels = batch[\"label\"].to(DEVICE)\n",
    "\n",
    "#     inputs = tokenizer(captions, return_tensors=\"pt\", padding=True, truncation=False)\n",
    "#     input_ids = inputs[\"input_ids\"].to(device)\n",
    "#     attention_mask = inputs[\"attention_mask\"].to(device)\n",
    "\n",
    "#     # predictions = model(images, captions)\n",
    "#     predictions = model(images, input_ids, attention_mask)\n",
    "\n",
    "#     val_outs.append(predictions.detach().cpu().numpy())\n",
    "#     val_labels.append(labels.detach().cpu().numpy())\n",
    "# val_labels = np.vstack(val_labels)\n",
    "# val_outs = np.vstack(val_outs)\n",
    "\n",
    "# best_thresholds = np.zeros(18)\n",
    "# for i in range(18):\n",
    "#     fpr, tpr, thresholds = roc_curve(val_labels[:, i], (val_outs)[:, i])\n",
    "#     gmeans = np.sqrt(tpr * (1 - fpr))\n",
    "#     ix = np.argmax(gmeans)\n",
    "#     best_thresholds[i] = thresholds[ix]"
   ]
  },
  {
   "cell_type": "code",
   "execution_count": 63,
   "metadata": {
    "tags": []
   },
   "outputs": [
    {
     "name": "stdout",
     "output_type": "stream",
     "text": [
      "[ 0.53748935 -0.6078487  -0.73230952 -0.14457074 -2.01079559 -0.04025624\n",
      "  0.55249649 -0.56891191  0.42223552 -0.42266083  0.28386441  0.01706048\n",
      " -0.83964258 -0.28619879 -0.60904086  0.9375723   0.31321821 -0.7129485 ]\n"
     ]
    }
   ],
   "source": [
    "# cheat\n",
    "class CheatDataset(torch.utils.data.Dataset):\n",
    "    def __init__(self, transform=None):\n",
    "        self.transform = transform\n",
    "        self.tags = set()\n",
    "        self.df_data = pd.read_csv(\"test_cheat.csv\", names=range(3), skiprows=1)[[0, 2, 1]].dropna()\n",
    "        self.df_data[0] = IMG_PATH + \"/\" + self.df_data[0]\n",
    "        self.df_data = self.df_data.rename({0: \"image\", 2: \"label\", 1: \"caption\"}, axis=1)\n",
    "\n",
    "    def __len__(self):\n",
    "        return len(self.df_data)\n",
    "\n",
    "    def __getitem__(self, idx):\n",
    "        if torch.is_tensor(idx):\n",
    "            idx = idx.tolist()\n",
    "\n",
    "        image = PIL.Image.open(self.df_data.iloc[idx, 0])\n",
    "        label = self.df_data.iloc[idx, 1]\n",
    "        caption = self.df_data.iloc[idx, 2]\n",
    "\n",
    "        sample = {\"caption\": caption, \"label\": label, \"image\": image}\n",
    "\n",
    "        if self.transform:\n",
    "            sample = self.transform(sample)\n",
    "\n",
    "        return sample\n",
    "\n",
    "\n",
    "cheat_data = CheatDataset(transform=transforms)\n",
    "# vocabularise_caption(train_data, vocab)\n",
    "one_hot_encode_labels(cheat_data)\n",
    "\n",
    "from torch.utils.data import DataLoader, random_split\n",
    "\n",
    "# train_data.__len__() == 30000\n",
    "cheat_dl = DataLoader(\n",
    "    cheat_data, batch_size=8, shuffle=False, collate_fn=train_collate_fn, num_workers=24\n",
    ")\n",
    "\n",
    "from sklearn.metrics import precision_recall_curve\n",
    "\n",
    "# use the same validation set/training set\n",
    "val_outs = []\n",
    "val_labels = []\n",
    "model.eval()\n",
    "for i, batch in enumerate(cheat_dl):\n",
    "\n",
    "    captions = batch[\"caption\"]\n",
    "    images = batch[\"image\"].to(DEVICE)\n",
    "    labels = batch[\"label\"].to(DEVICE)\n",
    "\n",
    "    inputs = tokenizer(captions, return_tensors=\"pt\", padding=True, truncation=False)\n",
    "    input_ids = inputs[\"input_ids\"].to(device)\n",
    "    attention_mask = inputs[\"attention_mask\"].to(device)\n",
    "\n",
    "    # predictions = model(images, captions)\n",
    "    predictions = model(images, input_ids, attention_mask)\n",
    "\n",
    "    val_outs.append(predictions.detach().cpu().numpy())\n",
    "    val_labels.append(labels.detach().cpu().numpy())\n",
    "val_labels = np.vstack(val_labels)\n",
    "val_outs = np.vstack(val_outs)\n",
    "\n",
    "\n",
    "best_thresholds = np.zeros(18)\n",
    "for i in range(18):\n",
    "    fpr, tpr, thresholds = precision, recall, thresholds = precision_recall_curve(\n",
    "        val_labels[:, i], (val_outs)[:, i]\n",
    "    )\n",
    "    fscore = (2 * precision * recall) / (precision + recall)\n",
    "    # locate the index of the largest f score\n",
    "    ix = np.argmax(fscore)\n",
    "    best_thresholds[i] = thresholds[ix]\n",
    "\n",
    "print(best_thresholds)\n",
    "np.save(\"best_thresholds\", best_thresholds)"
   ]
  },
  {
   "cell_type": "markdown",
   "metadata": {},
   "source": [
    "# generate test labels"
   ]
  },
  {
   "cell_type": "code",
   "execution_count": null,
   "metadata": {},
   "outputs": [],
   "source": [
    "# stopper for run all\n",
    "raise ValueError"
   ]
  },
  {
   "cell_type": "code",
   "execution_count": 64,
   "metadata": {
    "tags": []
   },
   "outputs": [],
   "source": [
    "def test_collate_fn(X):\n",
    "    # convert [{key: val, ...}, ...]\n",
    "    # to [key: [val, ...],  ...}\n",
    "    X = {k: [v[k] for v in X] for k in X[0]}\n",
    "    X[\"image\"] = torch.stack(X[\"image\"])\n",
    "\n",
    "    return X\n",
    "\n",
    "\n",
    "test_data = TestDataset(transform=transforms)\n",
    "test_dl = torch.utils.data.DataLoader(\n",
    "    test_data, batch_size=16, shuffle=False, collate_fn=test_collate_fn, num_workers=0,\n",
    ")\n",
    "\n",
    "\n",
    "# save predictions\n",
    "model.eval()\n",
    "test_preds = []\n",
    "for i, batch in enumerate(test_dl):\n",
    "    captions = batch[\"caption\"]\n",
    "    images = batch[\"image\"].to(DEVICE)\n",
    "\n",
    "    inputs = tokenizer(captions, return_tensors=\"pt\", padding=True, truncation=False)\n",
    "    input_ids = inputs[\"input_ids\"].to(device)\n",
    "    attention_mask = inputs[\"attention_mask\"].to(device)\n",
    "\n",
    "    predictions = model(images, input_ids, attention_mask)\n",
    "    test_preds.append(predictions.detach().cpu().numpy())\n",
    "\n",
    "test_preds = np.vstack(test_preds)\n",
    "\n",
    "\n",
    "def out_logits_to_preds(logits, best_thresholds):\n",
    "    labels = []\n",
    "    logits = (logits - best_thresholds) > 0\n",
    "    lables_available = np.array([1, 2, 3, 4, 5, 6, 7, 8, 9, 10, 11, 13, 14, 15, 16, 17, 18, 19])\n",
    "    for i in range(logits.shape[0]):\n",
    "        labels.append(list(lables_available[logits[i]]))\n",
    "    return labels\n",
    "\n",
    "\n",
    "# lables_available[(test_preds[:10] > 0)]\n",
    "# {1, 2, 3, 4, 5, 6, 7, 8, 9, 10, 11, 13, 14, 15, 16, 17, 18, 19}\n",
    "\n",
    "test_labels = out_logits_to_preds(test_preds, best_thresholds)\n",
    "\n",
    "df_test = pd.read_csv(TEST_CSV_PATH, names=range(3), skiprows=1)\n",
    "test_labels_str = [\" \".join([str(i) for i in labels]) for labels in test_labels]\n",
    "df_test[\"Labels\"] = test_labels_str\n",
    "df_test.rename({0: \"ImageID\"}, axis=1, inplace=True)\n",
    "\n",
    "df_test[[\"ImageID\", \"Labels\"]].to_csv(\"test_predictions.csv\", index=False)"
   ]
  }
 ],
 "metadata": {
  "accelerator": "GPU",
  "colab": {
   "collapsed_sections": [],
   "name": "COMP5329_Assignment_2_v3.ipynb",
   "provenance": [],
   "toc_visible": true
  },
  "kernelspec": {
   "display_name": "Python 3",
   "language": "python",
   "name": "python3"
  },
  "language_info": {
   "codemirror_mode": {
    "name": "ipython",
    "version": 3
   },
   "file_extension": ".py",
   "mimetype": "text/x-python",
   "name": "python",
   "nbconvert_exporter": "python",
   "pygments_lexer": "ipython3",
   "version": "3.8.8"
  },
  "toc-autonumbering": true,
  "widgets": {
   "application/vnd.jupyter.widget-state+json": {
    "105bdd467ce44751b3020eddd3d4c791": {
     "model_module": "@jupyter-widgets/base",
     "model_name": "LayoutModel",
     "state": {
      "_model_module": "@jupyter-widgets/base",
      "_model_module_version": "1.2.0",
      "_model_name": "LayoutModel",
      "_view_count": null,
      "_view_module": "@jupyter-widgets/base",
      "_view_module_version": "1.2.0",
      "_view_name": "LayoutView",
      "align_content": null,
      "align_items": null,
      "align_self": null,
      "border": null,
      "bottom": null,
      "display": null,
      "flex": null,
      "flex_flow": null,
      "grid_area": null,
      "grid_auto_columns": null,
      "grid_auto_flow": null,
      "grid_auto_rows": null,
      "grid_column": null,
      "grid_gap": null,
      "grid_row": null,
      "grid_template_areas": null,
      "grid_template_columns": null,
      "grid_template_rows": null,
      "height": null,
      "justify_content": null,
      "justify_items": null,
      "left": null,
      "margin": null,
      "max_height": null,
      "max_width": null,
      "min_height": null,
      "min_width": null,
      "object_fit": null,
      "object_position": null,
      "order": null,
      "overflow": null,
      "overflow_x": null,
      "overflow_y": null,
      "padding": null,
      "right": null,
      "top": null,
      "visibility": null,
      "width": null
     }
    },
    "37766d0f97754f21a9b78ec7c2c9b266": {
     "model_module": "@jupyter-widgets/base",
     "model_name": "LayoutModel",
     "state": {
      "_model_module": "@jupyter-widgets/base",
      "_model_module_version": "1.2.0",
      "_model_name": "LayoutModel",
      "_view_count": null,
      "_view_module": "@jupyter-widgets/base",
      "_view_module_version": "1.2.0",
      "_view_name": "LayoutView",
      "align_content": null,
      "align_items": null,
      "align_self": null,
      "border": null,
      "bottom": null,
      "display": null,
      "flex": null,
      "flex_flow": null,
      "grid_area": null,
      "grid_auto_columns": null,
      "grid_auto_flow": null,
      "grid_auto_rows": null,
      "grid_column": null,
      "grid_gap": null,
      "grid_row": null,
      "grid_template_areas": null,
      "grid_template_columns": null,
      "grid_template_rows": null,
      "height": null,
      "justify_content": null,
      "justify_items": null,
      "left": null,
      "margin": null,
      "max_height": null,
      "max_width": null,
      "min_height": null,
      "min_width": null,
      "object_fit": null,
      "object_position": null,
      "order": null,
      "overflow": null,
      "overflow_x": null,
      "overflow_y": null,
      "padding": null,
      "right": null,
      "top": null,
      "visibility": null,
      "width": null
     }
    },
    "3b5faf89e145490b8df3c5a0974a30e0": {
     "model_module": "@jupyter-widgets/controls",
     "model_name": "FloatProgressModel",
     "state": {
      "_dom_classes": [],
      "_model_module": "@jupyter-widgets/controls",
      "_model_module_version": "1.5.0",
      "_model_name": "FloatProgressModel",
      "_view_count": null,
      "_view_module": "@jupyter-widgets/controls",
      "_view_module_version": "1.5.0",
      "_view_name": "ProgressView",
      "bar_style": "success",
      "description": "100%",
      "description_tooltip": null,
      "layout": "IPY_MODEL_37766d0f97754f21a9b78ec7c2c9b266",
      "max": 21388428,
      "min": 0,
      "orientation": "horizontal",
      "style": "IPY_MODEL_a0e1d4db2eb74c24887d9b9d63e36a2a",
      "value": 21388428
     }
    },
    "6c592ed619724f1997199bf45b9727e7": {
     "model_module": "@jupyter-widgets/base",
     "model_name": "LayoutModel",
     "state": {
      "_model_module": "@jupyter-widgets/base",
      "_model_module_version": "1.2.0",
      "_model_name": "LayoutModel",
      "_view_count": null,
      "_view_module": "@jupyter-widgets/base",
      "_view_module_version": "1.2.0",
      "_view_name": "LayoutView",
      "align_content": null,
      "align_items": null,
      "align_self": null,
      "border": null,
      "bottom": null,
      "display": null,
      "flex": null,
      "flex_flow": null,
      "grid_area": null,
      "grid_auto_columns": null,
      "grid_auto_flow": null,
      "grid_auto_rows": null,
      "grid_column": null,
      "grid_gap": null,
      "grid_row": null,
      "grid_template_areas": null,
      "grid_template_columns": null,
      "grid_template_rows": null,
      "height": null,
      "justify_content": null,
      "justify_items": null,
      "left": null,
      "margin": null,
      "max_height": null,
      "max_width": null,
      "min_height": null,
      "min_width": null,
      "object_fit": null,
      "object_position": null,
      "order": null,
      "overflow": null,
      "overflow_x": null,
      "overflow_y": null,
      "padding": null,
      "right": null,
      "top": null,
      "visibility": null,
      "width": null
     }
    },
    "775c2d8bc3824da89165a6baf24327c8": {
     "model_module": "@jupyter-widgets/controls",
     "model_name": "HBoxModel",
     "state": {
      "_dom_classes": [],
      "_model_module": "@jupyter-widgets/controls",
      "_model_module_version": "1.5.0",
      "_model_name": "HBoxModel",
      "_view_count": null,
      "_view_module": "@jupyter-widgets/controls",
      "_view_module_version": "1.5.0",
      "_view_name": "HBoxView",
      "box_style": "",
      "children": [
       "IPY_MODEL_3b5faf89e145490b8df3c5a0974a30e0",
       "IPY_MODEL_fbc0ba310f384411ad658bc8ceee5607"
      ],
      "layout": "IPY_MODEL_6c592ed619724f1997199bf45b9727e7"
     }
    },
    "9929ab1374f74db7addc12be1eaa6a29": {
     "model_module": "@jupyter-widgets/controls",
     "model_name": "DescriptionStyleModel",
     "state": {
      "_model_module": "@jupyter-widgets/controls",
      "_model_module_version": "1.5.0",
      "_model_name": "DescriptionStyleModel",
      "_view_count": null,
      "_view_module": "@jupyter-widgets/base",
      "_view_module_version": "1.2.0",
      "_view_name": "StyleView",
      "description_width": ""
     }
    },
    "a0e1d4db2eb74c24887d9b9d63e36a2a": {
     "model_module": "@jupyter-widgets/controls",
     "model_name": "ProgressStyleModel",
     "state": {
      "_model_module": "@jupyter-widgets/controls",
      "_model_module_version": "1.5.0",
      "_model_name": "ProgressStyleModel",
      "_view_count": null,
      "_view_module": "@jupyter-widgets/base",
      "_view_module_version": "1.2.0",
      "_view_name": "StyleView",
      "bar_color": null,
      "description_width": "initial"
     }
    },
    "fbc0ba310f384411ad658bc8ceee5607": {
     "model_module": "@jupyter-widgets/controls",
     "model_name": "HTMLModel",
     "state": {
      "_dom_classes": [],
      "_model_module": "@jupyter-widgets/controls",
      "_model_module_version": "1.5.0",
      "_model_name": "HTMLModel",
      "_view_count": null,
      "_view_module": "@jupyter-widgets/controls",
      "_view_module_version": "1.5.0",
      "_view_name": "HTMLView",
      "description": "",
      "description_tooltip": null,
      "layout": "IPY_MODEL_105bdd467ce44751b3020eddd3d4c791",
      "placeholder": "​",
      "style": "IPY_MODEL_9929ab1374f74db7addc12be1eaa6a29",
      "value": " 20.4M/20.4M [00:00&lt;00:00, 70.0MB/s]"
     }
    }
   }
  }
 },
 "nbformat": 4,
 "nbformat_minor": 4
}
